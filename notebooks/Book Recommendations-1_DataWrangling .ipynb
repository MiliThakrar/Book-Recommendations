{
 "cells": [
  {
   "cell_type": "markdown",
   "id": "ae20ecd8-8309-432a-ae5a-2e2865bd5c99",
   "metadata": {},
   "source": [
    "# <center> Book Recommendations System - Data Cleaning and Exploration</center>\n",
    "#### <center>**By: Mili Ketan Thakrar**</center>"
   ]
  },
  {
   "cell_type": "markdown",
   "id": "ffeeb232-3350-4afa-be1b-b345a297269a",
   "metadata": {},
   "source": [
    "<a id=\"TOC\"></a> <br>\n",
    "## Table of Contents\n",
    "1. [Introduction](#intro)\n",
    "2. [Data Dictionary](#data-dictionary)\n",
    "3. [Loading the Datasets and Libraries](#loading-datasets)\n",
    "4. [Exploring and Cleaning Datasets](#exploring-datasets)\n",
    "    1. [Books Data](#books-data)\n",
    "    2. [Ratings Data](#ratings-data)\n",
    "    3. [Methodology](#merging-datasets)\n",
    "    4. [Users Data](#users-data)\n",
    "5. [Final Dataset Analysis](#final-dataset)\n",
    "6. [Additional Insights and Observations](#insights)\n",
    "    1. [Distribution of Average Book Ratings](#avg)\n",
    "    2. [Top 10 Countries by User Count and Age breakdown](#top10)\n",
    "    3. [Distribution of Users Across Age Categories](#age)\n",
    "    4. [Top 10 Books by Total Number of Ratings](#top)\n",
    "7. [Conclusion and Next Steps](#conclusion)"
   ]
  },
  {
   "cell_type": "markdown",
   "id": "d0cafd46-d1f6-43c6-ab36-1f5b6a20f5e2",
   "metadata": {},
   "source": [
    "<a id=\"intro\"></a>\n",
    "## Introduction\n",
    "[Back to Table of Contents](#table-of-content)"
   ]
  },
  {
   "cell_type": "markdown",
   "id": "f9b734ae-619b-48b8-9a55-d0c36f53b2b7",
   "metadata": {},
   "source": [
    "**Laying the Foundation for Our Book Recommendation System**\n",
    "\n",
    "This initial sprint focuses on data exploration and preparation, a crucial step in building our personalized book recommendation system. Our project utilizes three primary datasets: books, user ratings, and user demographics. The main goal is to thoroughly understand, clean, and integrate these datasets into a comprehensive, analysis-ready format.\n",
    "\n",
    "We will explore each dataset's structure and content, uncovering patterns and identifying potential issues. Our data cleaning efforts will address missing values, duplicates, and inconsistencies across all three datasets. We'll then merge these cleaned datasets into a single, comprehensive dataset that combines book information, user ratings, and demographic data.\n",
    "\n",
    "By the end of this sprint, we expect to have a unified, clean dataset ready for advanced analysis. Our report will detail our findings, including statistics and visualizations of key distributions across books, ratings, and user characteristics. This refined, integrated dataset and the insights gained will guide our modeling approach in subsequent sprints, laying a solid groundwork for developing effective book recommendations.\n",
    "\n",
    "Let's begin by looking at our data dictionaries and then dive into each dataset."
   ]
  },
  {
   "cell_type": "markdown",
   "id": "e327a1d0-14ea-4471-92fc-1ab7cd019dac",
   "metadata": {},
   "source": [
    "<a id=\"data-dictionary\"></a>\n",
    "## Data Dictionary\n",
    "[Back to Table of Contents](#table-of-content)\n",
    "\n",
    "Below we have the data dictioonary of the intial data and the final combined dataset"
   ]
  },
  {
   "cell_type": "markdown",
   "id": "19e42689-4da4-4a9a-9d98-789eb133ec83",
   "metadata": {},
   "source": [
    "#### Books Table\n",
    "\n",
    "| Field Name | Type | Description |\n",
    "|------------|------|-------------|\n",
    "| ISBN | string | International Standard Book Number, unique identifier for books |\n",
    "| Title | string | The title of the book |\n",
    "| Author | string | The name of the book's author |\n",
    "| Publisher | string | The name of the book's publisher |\n",
    "| Publication_year | int | The year the book was published |\n",
    "| Image_URL | string | URL link to the book's cover image |\n",
    "\n",
    "#### Ratings Table\n",
    "\n",
    "| Field Name | Type | Description |\n",
    "|------------|------|-------------|\n",
    "| User_id | float | Unique identifier for each user |\n",
    "| ISBN | string | International Standard Book Number of the rated book |\n",
    "| Ratings | float | User's rating of the book, scale of 1-10 |\n",
    "\n",
    "#### Users Table\n",
    "\n",
    "| Field Name | Type | Description |\n",
    "|------------|------|-------------|\n",
    "| User_id | float | Unique identifier for each user |\n",
    "| Age | float | Age of the user |\n",
    "| Location | string | Location where the user is located |\n",
    "\n",
    "#### Final Table\n",
    "\n",
    "| Field Name | Type | Description |\n",
    "|------------|------|-------------|\n",
    "| ISBN | string | International Standard Book Number, unique identifier for books |\n",
    "| Title | string | The title of the book |\n",
    "| Author | string | The name of the book's author |\n",
    "| Ratings | float | User's rating of the book, scale of 1-10 |\n",
    "| Total_num_of_ratings | float | Total number of ratings for the book |\n",
    "| Avg_ratings | float | Average rating score for the book |\n",
    "| Publisher | string | The name of the book's publisher |\n",
    "| Publication_year | int | The year the book was published |\n",
    "| Year_Category | string | Categorized time period of publication |\n",
    "| User_id | float | Unique identifier for each user |\n",
    "| Age | float | Age of the user |\n",
    "| Age_Category | string | Categorized Age into age ranges|\n",
    "| City | string | City where the user is located |\n",
    "| State | string | State or region where the user is located |\n",
    "| Country | string | Country where the user is located |\n",
    "| Image_URL | string | URL link to the book's cover image |\n"
   ]
  },
  {
   "cell_type": "markdown",
   "id": "9583d4a0-0d9f-4d20-8b0c-ab476c41bc8a",
   "metadata": {},
   "source": [
    "<a id=\"loading-datasets\"></a>\n",
    "## Loading the Datasets and Libaries  \n",
    "[Back to Table of Contents](#table-of-content)"
   ]
  },
  {
   "cell_type": "markdown",
   "id": "a8661228-3fd7-434a-906c-effc7c861056",
   "metadata": {},
   "source": [
    "#### Required libraries\n",
    "\n",
    "This notebook uses several Python packages that come standard with the Anaconda Python distribution. The primary libraries that we'll be using are:\n",
    "\n",
    "- **NumPy**: Provides a fast numerical array structure and helper functions.\n",
    "- **Pandas**: Provides a DataFrame structure to store data in memory and work with it easily and efficiently.\n",
    "- **Matplotlib**: Basic plotting library in Python; most other Python plotting libraries are built on top of it.\n",
    "- **Seaborn**: Advanced statistical plotting library."
   ]
  },
  {
   "cell_type": "code",
   "execution_count": 1,
   "id": "efa14a3b-ea37-4430-a775-3fa2f3d44847",
   "metadata": {},
   "outputs": [
    {
     "name": "stdout",
     "output_type": "stream",
     "text": [
      "The history saving thread hit an unexpected error (OperationalError('attempt to write a readonly database')).History will not be written to the database.\n"
     ]
    }
   ],
   "source": [
    "import matplotlib.pyplot as plt\n",
    "import numpy as np\n",
    "import pandas as pd\n",
    "import seaborn as sns"
   ]
  },
  {
   "cell_type": "markdown",
   "id": "a4cb393a-8e6b-4458-bb9f-3404df0188d9",
   "metadata": {},
   "source": [
    "**Loading the csv files**"
   ]
  },
  {
   "cell_type": "code",
   "execution_count": 2,
   "id": "54eeead8-850b-4419-889b-c1efe1db1856",
   "metadata": {},
   "outputs": [
    {
     "name": "stderr",
     "output_type": "stream",
     "text": [
      "/var/folders/x1/c4vgz1153nb7vn8f6v942wl80000gn/T/ipykernel_58560/3577759053.py:1: DtypeWarning: Columns (3) have mixed types. Specify dtype option on import or set low_memory=False.\n",
      "  books_df = pd.read_csv('Books.csv')\n"
     ]
    }
   ],
   "source": [
    "books_df = pd.read_csv('Books.csv')\n",
    "ratings_df = pd.read_csv('Ratings.csv')\n",
    "users_df = pd.read_csv('Users.csv')"
   ]
  },
  {
   "cell_type": "code",
   "execution_count": 3,
   "id": "e4d458c8-2dc9-4c91-9575-4b04bac26f3b",
   "metadata": {},
   "outputs": [
    {
     "name": "stdout",
     "output_type": "stream",
     "text": [
      "Number of ratings: 1149780\n",
      "Number of unique books: 271360\n",
      "Number of unique users: 105283\n",
      "Average number of ratings per user: 10.92\n",
      "Average number of ratings per book: 4.24\n"
     ]
    }
   ],
   "source": [
    "# Quick overview of the data we have loaded above \n",
    "n_ratings = len(ratings_df)\n",
    "n_books = books_df['ISBN'].nunique()\n",
    "n_users = ratings_df['User-ID'].nunique()\n",
    "\n",
    "print(f'Number of ratings: {n_ratings}')\n",
    "print(f'Number of unique books: {n_books}')\n",
    "print(f'Number of unique users: {n_users}')\n",
    "print(f'Average number of ratings per user: {round(n_ratings/n_users, 2)}')\n",
    "print(f'Average number of ratings per book: {round(n_ratings/n_books, 2)}')"
   ]
  },
  {
   "cell_type": "markdown",
   "id": "8d755444-b85c-4abf-b17b-0d64b052a8a1",
   "metadata": {},
   "source": [
    "<a id=\"exploring-datasets\"></a>\n",
    "## Exploring and Cleaning Datasets \n",
    "\n",
    "<a id=\"books-data\"></a>\n",
    "### Books Data\n",
    "[Back to Table of Contents](#table-of-content)"
   ]
  },
  {
   "cell_type": "code",
   "execution_count": 4,
   "id": "e0a74949-911b-4bb1-bbb7-4ffc0b9302e1",
   "metadata": {},
   "outputs": [
    {
     "data": {
      "text/html": [
       "<div>\n",
       "<style scoped>\n",
       "    .dataframe tbody tr th:only-of-type {\n",
       "        vertical-align: middle;\n",
       "    }\n",
       "\n",
       "    .dataframe tbody tr th {\n",
       "        vertical-align: top;\n",
       "    }\n",
       "\n",
       "    .dataframe thead th {\n",
       "        text-align: right;\n",
       "    }\n",
       "</style>\n",
       "<table border=\"1\" class=\"dataframe\">\n",
       "  <thead>\n",
       "    <tr style=\"text-align: right;\">\n",
       "      <th></th>\n",
       "      <th>ISBN</th>\n",
       "      <th>Book-Title</th>\n",
       "      <th>Book-Author</th>\n",
       "      <th>Year-Of-Publication</th>\n",
       "      <th>Publisher</th>\n",
       "      <th>Image-URL-S</th>\n",
       "      <th>Image-URL-M</th>\n",
       "      <th>Image-URL-L</th>\n",
       "    </tr>\n",
       "  </thead>\n",
       "  <tbody>\n",
       "    <tr>\n",
       "      <th>0</th>\n",
       "      <td>0195153448</td>\n",
       "      <td>Classical Mythology</td>\n",
       "      <td>Mark P. O. Morford</td>\n",
       "      <td>2002</td>\n",
       "      <td>Oxford University Press</td>\n",
       "      <td>http://images.amazon.com/images/P/0195153448.0...</td>\n",
       "      <td>http://images.amazon.com/images/P/0195153448.0...</td>\n",
       "      <td>http://images.amazon.com/images/P/0195153448.0...</td>\n",
       "    </tr>\n",
       "    <tr>\n",
       "      <th>1</th>\n",
       "      <td>0002005018</td>\n",
       "      <td>Clara Callan</td>\n",
       "      <td>Richard Bruce Wright</td>\n",
       "      <td>2001</td>\n",
       "      <td>HarperFlamingo Canada</td>\n",
       "      <td>http://images.amazon.com/images/P/0002005018.0...</td>\n",
       "      <td>http://images.amazon.com/images/P/0002005018.0...</td>\n",
       "      <td>http://images.amazon.com/images/P/0002005018.0...</td>\n",
       "    </tr>\n",
       "    <tr>\n",
       "      <th>2</th>\n",
       "      <td>0060973129</td>\n",
       "      <td>Decision in Normandy</td>\n",
       "      <td>Carlo D'Este</td>\n",
       "      <td>1991</td>\n",
       "      <td>HarperPerennial</td>\n",
       "      <td>http://images.amazon.com/images/P/0060973129.0...</td>\n",
       "      <td>http://images.amazon.com/images/P/0060973129.0...</td>\n",
       "      <td>http://images.amazon.com/images/P/0060973129.0...</td>\n",
       "    </tr>\n",
       "    <tr>\n",
       "      <th>3</th>\n",
       "      <td>0374157065</td>\n",
       "      <td>Flu: The Story of the Great Influenza Pandemic...</td>\n",
       "      <td>Gina Bari Kolata</td>\n",
       "      <td>1999</td>\n",
       "      <td>Farrar Straus Giroux</td>\n",
       "      <td>http://images.amazon.com/images/P/0374157065.0...</td>\n",
       "      <td>http://images.amazon.com/images/P/0374157065.0...</td>\n",
       "      <td>http://images.amazon.com/images/P/0374157065.0...</td>\n",
       "    </tr>\n",
       "    <tr>\n",
       "      <th>4</th>\n",
       "      <td>0393045218</td>\n",
       "      <td>The Mummies of Urumchi</td>\n",
       "      <td>E. J. W. Barber</td>\n",
       "      <td>1999</td>\n",
       "      <td>W. W. Norton &amp;amp; Company</td>\n",
       "      <td>http://images.amazon.com/images/P/0393045218.0...</td>\n",
       "      <td>http://images.amazon.com/images/P/0393045218.0...</td>\n",
       "      <td>http://images.amazon.com/images/P/0393045218.0...</td>\n",
       "    </tr>\n",
       "  </tbody>\n",
       "</table>\n",
       "</div>"
      ],
      "text/plain": [
       "         ISBN                                         Book-Title  \\\n",
       "0  0195153448                                Classical Mythology   \n",
       "1  0002005018                                       Clara Callan   \n",
       "2  0060973129                               Decision in Normandy   \n",
       "3  0374157065  Flu: The Story of the Great Influenza Pandemic...   \n",
       "4  0393045218                             The Mummies of Urumchi   \n",
       "\n",
       "            Book-Author Year-Of-Publication                   Publisher  \\\n",
       "0    Mark P. O. Morford                2002     Oxford University Press   \n",
       "1  Richard Bruce Wright                2001       HarperFlamingo Canada   \n",
       "2          Carlo D'Este                1991             HarperPerennial   \n",
       "3      Gina Bari Kolata                1999        Farrar Straus Giroux   \n",
       "4       E. J. W. Barber                1999  W. W. Norton &amp; Company   \n",
       "\n",
       "                                         Image-URL-S  \\\n",
       "0  http://images.amazon.com/images/P/0195153448.0...   \n",
       "1  http://images.amazon.com/images/P/0002005018.0...   \n",
       "2  http://images.amazon.com/images/P/0060973129.0...   \n",
       "3  http://images.amazon.com/images/P/0374157065.0...   \n",
       "4  http://images.amazon.com/images/P/0393045218.0...   \n",
       "\n",
       "                                         Image-URL-M  \\\n",
       "0  http://images.amazon.com/images/P/0195153448.0...   \n",
       "1  http://images.amazon.com/images/P/0002005018.0...   \n",
       "2  http://images.amazon.com/images/P/0060973129.0...   \n",
       "3  http://images.amazon.com/images/P/0374157065.0...   \n",
       "4  http://images.amazon.com/images/P/0393045218.0...   \n",
       "\n",
       "                                         Image-URL-L  \n",
       "0  http://images.amazon.com/images/P/0195153448.0...  \n",
       "1  http://images.amazon.com/images/P/0002005018.0...  \n",
       "2  http://images.amazon.com/images/P/0060973129.0...  \n",
       "3  http://images.amazon.com/images/P/0374157065.0...  \n",
       "4  http://images.amazon.com/images/P/0393045218.0...  "
      ]
     },
     "execution_count": 4,
     "metadata": {},
     "output_type": "execute_result"
    }
   ],
   "source": [
    "# Looking into the first 5 rows of the dataset\n",
    "books_df.head()"
   ]
  },
  {
   "cell_type": "code",
   "execution_count": 5,
   "id": "38733c8b-52d2-4235-8dee-6220279f10c7",
   "metadata": {},
   "outputs": [
    {
     "name": "stdout",
     "output_type": "stream",
     "text": [
      "We have 271360 rows and 8 columns in the books dataset\n"
     ]
    }
   ],
   "source": [
    "# Looking at the shape of the books data\n",
    "books_df.shape\n",
    "print(f\"We have {books_df.shape[0]} rows and {books_df.shape[1]} columns in the books dataset\")"
   ]
  },
  {
   "cell_type": "code",
   "execution_count": 6,
   "id": "2b5697f6-7517-4cdc-94c3-bc3ae8e0612b",
   "metadata": {},
   "outputs": [
    {
     "data": {
      "text/plain": [
       "Index(['ISBN', 'Book-Title', 'Book-Author', 'Year-Of-Publication', 'Publisher',\n",
       "       'Image-URL-S', 'Image-URL-M', 'Image-URL-L'],\n",
       "      dtype='object')"
      ]
     },
     "execution_count": 6,
     "metadata": {},
     "output_type": "execute_result"
    }
   ],
   "source": [
    "# lookign at what columsn the books data has \n",
    "books_df.columns"
   ]
  },
  {
   "cell_type": "code",
   "execution_count": 7,
   "id": "6f6c759a-98c8-428b-a5e3-5a744e84a38f",
   "metadata": {},
   "outputs": [
    {
     "data": {
      "text/plain": [
       "np.int64(0)"
      ]
     },
     "execution_count": 7,
     "metadata": {},
     "output_type": "execute_result"
    }
   ],
   "source": [
    "# Seeing if the books data has any duplicated rows \n",
    "books_df.duplicated().sum()"
   ]
  },
  {
   "cell_type": "code",
   "execution_count": 8,
   "id": "03dc6174",
   "metadata": {},
   "outputs": [],
   "source": [
    "# Dropping redundant columns \n",
    "books_df.drop(columns=['Image-URL-S', 'Image-URL-M'], inplace=True)"
   ]
  },
  {
   "cell_type": "markdown",
   "id": "62c0b965-187e-41cb-93df-79218d9b8f13",
   "metadata": {},
   "source": [
    "Here we are dropping the redundant columns in the books data as we have 3 columns that have images, this column will be useful for when we want to build our website or webpage to showcase our recommendations model, but will do not need all the image columns"
   ]
  },
  {
   "cell_type": "code",
   "execution_count": 9,
   "id": "9c06b409",
   "metadata": {},
   "outputs": [],
   "source": [
    "# Renaming columns\n",
    "books_df.rename(columns={'Book-Title': 'Title', 'Book-Author': 'Author', \n",
    "                         'Year-Of-Publication': 'Publication_year', 'Image-URL-L': 'Image_URL'}, inplace=True)"
   ]
  },
  {
   "cell_type": "code",
   "execution_count": 10,
   "id": "75732fde-dc38-4c35-8fd9-7486c789ed62",
   "metadata": {},
   "outputs": [
    {
     "name": "stdout",
     "output_type": "stream",
     "text": [
      "<class 'pandas.core.frame.DataFrame'>\n",
      "RangeIndex: 271360 entries, 0 to 271359\n",
      "Data columns (total 6 columns):\n",
      " #   Column            Non-Null Count   Dtype \n",
      "---  ------            --------------   ----- \n",
      " 0   ISBN              271360 non-null  object\n",
      " 1   Title             271360 non-null  object\n",
      " 2   Author            271358 non-null  object\n",
      " 3   Publication_year  271360 non-null  object\n",
      " 4   Publisher         271358 non-null  object\n",
      " 5   Image_URL         271357 non-null  object\n",
      "dtypes: object(6)\n",
      "memory usage: 12.4+ MB\n"
     ]
    }
   ],
   "source": [
    "# Looking to see what eachg columns type is and the non-null counts\n",
    "books_df.info()"
   ]
  },
  {
   "cell_type": "markdown",
   "id": "2869eb6f-5b19-4275-9627-b283201406af",
   "metadata": {},
   "source": [
    "Here we can see that the publication year column is also a object column since this is a numeric column we will change this into an int type as we have year 0 in the publication year which can not be converted to datetime. We will be handeling this year 0 value later. converting this column to a numeric column will be helpful if we want to do any further analysis on this column"
   ]
  },
  {
   "cell_type": "code",
   "execution_count": 11,
   "id": "d6aee8d5-78d3-4b46-9e0f-a06543ae6b55",
   "metadata": {},
   "outputs": [
    {
     "name": "stdout",
     "output_type": "stream",
     "text": [
      "[2002 2001 1991 1999 2000 1993 1996 1988 2004 1998 1994 2003 1997 1983\n",
      " 1979 1995 1982 1985 1992 1986 1978 1980 1952 1987 1990 1981 1989 1984 0\n",
      " 1968 1961 1958 1974 1976 1971 1977 1975 1965 1941 1970 1962 1973 1972\n",
      " 1960 1966 1920 1956 1959 1953 1951 1942 1963 1964 1969 1954 1950 1967\n",
      " 2005 1957 1940 1937 1955 1946 1936 1930 2011 1925 1948 1943 1947 1945\n",
      " 1923 2020 1939 1926 1938 2030 1911 1904 1949 1932 1928 1929 1927 1931\n",
      " 1914 2050 1934 1910 1933 1902 1924 1921 1900 2038 2026 1944 1917 1901\n",
      " 2010 1908 1906 1935 1806 2021 '2000' '1995' '1999' '2004' '2003' '1990'\n",
      " '1994' '1986' '1989' '2002' '1981' '1993' '1983' '1982' '1976' '1991'\n",
      " '1977' '1998' '1992' '1996' '0' '1997' '2001' '1974' '1968' '1987' '1984'\n",
      " '1988' '1963' '1956' '1970' '1985' '1978' '1973' '1980' '1979' '1975'\n",
      " '1969' '1961' '1965' '1939' '1958' '1950' '1953' '1966' '1971' '1959'\n",
      " '1972' '1955' '1957' '1945' '1960' '1967' '1932' '1924' '1964' '2012'\n",
      " '1911' '1927' '1948' '1962' '2006' '1952' '1940' '1951' '1931' '1954'\n",
      " '2005' '1930' '1941' '1944' 'DK Publishing Inc' '1943' '1938' '1900'\n",
      " '1942' '1923' '1920' '1933' 'Gallimard' '1909' '1946' '2008' '1378'\n",
      " '2030' '1936' '1947' '2011' '2020' '1919' '1949' '1922' '1897' '2024'\n",
      " '1376' '1926' '2037']\n"
     ]
    }
   ],
   "source": [
    "# Checking for unique values in the publication year\n",
    "print(books_df['Publication_year'].unique())"
   ]
  },
  {
   "cell_type": "markdown",
   "id": "c0334e81-7886-472a-8bbb-350202e33d20",
   "metadata": {},
   "source": [
    "Here we can see that we have non-numeric values in this column so let's replace them with year 0 for now "
   ]
  },
  {
   "cell_type": "code",
   "execution_count": 12,
   "id": "b37cd6a6-8f98-4b98-b2d1-9828d1c89661",
   "metadata": {},
   "outputs": [],
   "source": [
    "# Convert to numeric, replacing non-numeric values with NaN\n",
    "books_df['Publication_year'] = pd.to_numeric(books_df['Publication_year'], errors='coerce')\n",
    "\n",
    "# Replace 'DK Publishing Inc' and 'Gallimard' with 0\n",
    "books_df['Publication_year'] = books_df['Publication_year'].replace({'DK Publishing Inc': 0, 'Gallimard': 0})\n",
    "\n",
    "# Fill remaining NaN values with 0 and convert to int64\n",
    "books_df['Publication_year'] = books_df['Publication_year'].fillna(0).astype('int64')"
   ]
  },
  {
   "cell_type": "code",
   "execution_count": 13,
   "id": "9d4b6288-f147-4501-b87e-e07b4fba9ff1",
   "metadata": {},
   "outputs": [
    {
     "data": {
      "text/plain": [
       "ISBN                object\n",
       "Title               object\n",
       "Author              object\n",
       "Publication_year     int64\n",
       "Publisher           object\n",
       "Image_URL           object\n",
       "dtype: object"
      ]
     },
     "execution_count": 13,
     "metadata": {},
     "output_type": "execute_result"
    }
   ],
   "source": [
    "# checking to see that the column has been converted \n",
    "books_df.dtypes"
   ]
  },
  {
   "cell_type": "code",
   "execution_count": 14,
   "id": "92044cd8-d8b4-4eec-9ab8-6c3d0a7a8f2a",
   "metadata": {},
   "outputs": [
    {
     "data": {
      "text/plain": [
       "Image_URL           3\n",
       "Author              2\n",
       "Publisher           2\n",
       "ISBN                0\n",
       "Title               0\n",
       "Publication_year    0\n",
       "dtype: int64"
      ]
     },
     "execution_count": 14,
     "metadata": {},
     "output_type": "execute_result"
    }
   ],
   "source": [
    "# Looking at the null values in the column to see which columns have the most null values\n",
    "books_df.isnull().sum().sort_values(ascending=False)"
   ]
  },
  {
   "cell_type": "code",
   "execution_count": 15,
   "id": "6861bee2-8bfe-4675-bc35-f8b5d4381892",
   "metadata": {},
   "outputs": [
    {
     "data": {
      "text/plain": [
       "Image_URL           0.001106\n",
       "Author              0.000737\n",
       "Publisher           0.000737\n",
       "ISBN                0.000000\n",
       "Title               0.000000\n",
       "Publication_year    0.000000\n",
       "dtype: float64"
      ]
     },
     "execution_count": 15,
     "metadata": {},
     "output_type": "execute_result"
    }
   ],
   "source": [
    "# Looking at the null values as a percentage of the total dataset \n",
    "((books_df.isna().sum()/books_df.shape[0])*100).sort_values(ascending=False)"
   ]
  },
  {
   "cell_type": "markdown",
   "id": "c07459a7-5fe9-461f-ad00-bc3b365dbe62",
   "metadata": {},
   "source": [
    "Given our large books dataset (271,360 rows) and the negligible percentage of null values, we've chosen to drop these rows. This simplifies preprocessing while maintaining data quality, as the minimal data loss won't significantly impact our analysis. This approach ensures a clean and complete dataset for subsequent modeling."
   ]
  },
  {
   "cell_type": "code",
   "execution_count": 16,
   "id": "5e0d584b-6cda-4f71-83f0-df20f862f9d2",
   "metadata": {},
   "outputs": [],
   "source": [
    "# dropping null values as they are such a small percentage of the books df \n",
    "books_df = books_df.dropna()"
   ]
  },
  {
   "cell_type": "code",
   "execution_count": 17,
   "id": "85f10021-b54e-43c8-a078-f3e7d3f2acbf",
   "metadata": {},
   "outputs": [
    {
     "data": {
      "text/plain": [
       "ISBN                0.0\n",
       "Title               0.0\n",
       "Author              0.0\n",
       "Publication_year    0.0\n",
       "Publisher           0.0\n",
       "Image_URL           0.0\n",
       "dtype: float64"
      ]
     },
     "execution_count": 17,
     "metadata": {},
     "output_type": "execute_result"
    }
   ],
   "source": [
    "# Sanity check\n",
    "((books_df.isna().sum()/books_df.shape[0])*100).sort_values(ascending=False)"
   ]
  },
  {
   "cell_type": "code",
   "execution_count": 18,
   "id": "3e0d0c07-a03a-4ed4-8f2e-952c2ada9058",
   "metadata": {},
   "outputs": [
    {
     "data": {
      "text/plain": [
       "count    271353.000000\n",
       "mean       1959.760235\n",
       "std         257.996082\n",
       "min           0.000000\n",
       "25%        1989.000000\n",
       "50%        1995.000000\n",
       "75%        2000.000000\n",
       "max        2050.000000\n",
       "Name: Publication_year, dtype: float64"
      ]
     },
     "execution_count": 18,
     "metadata": {},
     "output_type": "execute_result"
    }
   ],
   "source": [
    "# Looking at some basic statistics for Publication Year\n",
    "books_df['Publication_year'].describe()"
   ]
  },
  {
   "cell_type": "markdown",
   "id": "de2cdd1a-1a35-4fac-95d7-86d52ef1afdc",
   "metadata": {},
   "source": [
    "The publication year column reveals significant outliers, with values ranging from 0 to 2050. To better understand the distribution and impact of these outliers, we'll examine the frequency distribution of publication years. This analysis will help us identify the extent of potentially incorrect data points and inform our decision on how to handle them in our preprocessing steps."
   ]
  },
  {
   "cell_type": "code",
   "execution_count": 19,
   "id": "6530561b-bf7f-4cd2-886e-625a68243a8f",
   "metadata": {},
   "outputs": [
    {
     "data": {
      "image/png": "[encoded data removed]",
      "text/plain": [
       "<Figure size 640x480 with 1 Axes>"
      ]
     },
     "metadata": {},
     "output_type": "display_data"
    }
   ],
   "source": [
    "# Creating a histogram\n",
    "books_df['Publication_year'].hist(bins=100, edgecolor='black', log=True)\n",
    "\n",
    "# Customizing the plot\n",
    "plt.title('Publication years')\n",
    "plt.xlabel('Date')\n",
    "plt.ylabel('Frequency')\n",
    "plt.axvline(books_df['Publication_year'].mean(), color = \"red\", label='Mean')\n",
    "plt.grid()\n",
    "\n",
    "# Displaying the plot\n",
    "plt.show()"
   ]
  },
  {
   "cell_type": "code",
   "execution_count": 20,
   "id": "f8ebb418-aa9d-4e44-a31e-9a6130896fc2",
   "metadata": {},
   "outputs": [
    {
     "data": {
      "image/png": "[encoded data removed]",
      "text/plain": [
       "<Figure size 1200x1000 with 2 Axes>"
      ]
     },
     "metadata": {},
     "output_type": "display_data"
    }
   ],
   "source": [
    "# Creating a larger figure for better visualization\n",
    "fig, (ax1, ax2) = plt.subplots(2, 1, figsize=(12, 10), gridspec_kw={'height_ratios': [3, 1]})\n",
    "\n",
    "# Main box plot\n",
    "bp = books_df.boxplot(column='Publication_year', ax=ax1, vert=False, whis=[5, 95])\n",
    "ax1.set_title('Distribution of Publication Years', fontsize=16)\n",
    "ax1.set_xlabel('Year', fontsize=14)\n",
    "ax1.grid(axis='x', linestyle='--', alpha=0.7)\n",
    "\n",
    "# Adding mean line\n",
    "mean_year = books_df['Publication_year'].mean()\n",
    "ax1.axvline(mean_year, color='red', linestyle='--', label=f'Mean: {mean_year:.0f}')\n",
    "ax1.legend(fontsize=12)\n",
    "\n",
    "# Zooming in on the IQR\n",
    "q1, q3 = books_df['Publication_year'].quantile([0.25, 0.75])\n",
    "iqr = q3 - q1\n",
    "zoom_min, zoom_max = q1 - 1.5*iqr, q3 + 1.5*iqr\n",
    "\n",
    "books_df.boxplot(column='Publication_year', ax=ax2, vert=False, whis=[5, 95])\n",
    "ax2.set_xlim(zoom_min, zoom_max)\n",
    "ax2.set_title('Zoomed View (IQR ± 1.5*IQR)', fontsize=14)\n",
    "ax2.set_xlabel('Year', fontsize=12)\n",
    "ax2.grid(axis='x', linestyle='--', alpha=0.7)\n",
    "\n",
    "plt.tight_layout()\n",
    "plt.show()\n"
   ]
  },
  {
   "cell_type": "markdown",
   "id": "af95c368-a8af-412d-86d1-db1e1edfe8ee",
   "metadata": {},
   "source": [
    "The frequency distribution and boxplot analysis of the publication year reveal significant insights into our dataset's temporal structure. A notable concentration of outliers is observed, particularly at year 0, which likely represents missing or incorrectly entered data. The interquartile range (IQR) ± 1.5, spanning from 1975 to 2013, encompasses the majority of our data points, indicating that most books in our collection were published during this period.\n",
    "\n",
    "Further examination through subplots, breaking down the frequency distribution across different time periods, corroborates these findings. It highlights the anomalous peak at year 0 while demonstrating that the bulk of publications fall within the 1900-2017 range. This distribution pattern suggests a need for careful data cleaning and potentially separate handling of the outlier years to ensure the integrity of our subsequent analyses and modeling efforts."
   ]
  },
  {
   "cell_type": "code",
   "execution_count": 21,
   "id": "8e00bab0-0612-4885-872b-51e53118fbba",
   "metadata": {},
   "outputs": [
    {
     "data": {
      "image/png": "[encoded data removed]",
      "text/plain": [
       "<Figure size 1200x800 with 4 Axes>"
      ]
     },
     "metadata": {},
     "output_type": "display_data"
    }
   ],
   "source": [
    "fig, axes = plt.subplots(nrows=2, ncols=2, figsize=(12, 8))\n",
    "\n",
    "# Create subplots\n",
    "ax = plt.subplot(2,2,1)\n",
    "plt.hist(books_df['Publication_year'],bins=range(1980, 2050,1), edgecolor='black', log=True)\n",
    "# Customize the plot\n",
    "plt.title('Publication year 1980 to 2050')\n",
    "plt.xlabel('Year')\n",
    "plt.ylabel('Frequency')\n",
    "\n",
    "# Create subplots\n",
    "ax = plt.subplot(2,2,2)\n",
    "plt.hist(books_df['Publication_year'],bins=range(1500,1981,10), edgecolor='black', log=True)\n",
    "# Customize the plot\n",
    "plt.title('Publication year 1500 to 1981')\n",
    "plt.xlabel('Year')\n",
    "plt.ylabel('Frequency')\n",
    "\n",
    "# Create subplots\n",
    "ax = plt.subplot(2,2,3)\n",
    "plt.hist(books_df['Publication_year'],bins=range(1001,1499,10), edgecolor='black', log=True)\n",
    "# Customize the plot\n",
    "plt.title('Publication year 1000 to 1499')\n",
    "plt.xlabel('Year')\n",
    "plt.ylabel('Frequency')\n",
    "\n",
    "# Create subplots\n",
    "ax = plt.subplot(2,2,4)\n",
    "plt.hist(books_df['Publication_year'],bins=range(0,1000,100), edgecolor='black', log=True)\n",
    "# Customize the plot\n",
    "plt.title('Publication year 0 to 1000')\n",
    "plt.xlabel('Year')\n",
    "plt.ylabel('Frequency')\n",
    "\n",
    "# Display the plot\n",
    "plt.tight_layout()\n",
    "plt.show()"
   ]
  },
  {
   "cell_type": "code",
   "execution_count": 22,
   "id": "063fd068-93c4-40cf-bd8b-e469cad0c4cf",
   "metadata": {},
   "outputs": [
    {
     "data": {
      "text/plain": [
       "array([2002, 2001, 1991, 1999, 2000, 1993, 1996, 1988, 2004, 1998, 1994,\n",
       "       2003, 1997, 1983, 1979, 1995, 1982, 1985, 1992, 1986, 1978, 1980,\n",
       "       1952, 1987, 1990, 1981, 1989, 1984,    0, 1968, 1961, 1958, 1974,\n",
       "       1976, 1971, 1977, 1975, 1965, 1941, 1970, 1962, 1973, 1972, 1960,\n",
       "       1966, 1920, 1956, 1959, 1953, 1951, 1942, 1963, 1964, 1969, 1954,\n",
       "       1950, 1967, 2005, 1957, 1940, 1937, 1955, 1946, 1936, 1930, 2011,\n",
       "       1925, 1948, 1943, 1947, 1945, 1923, 2020, 1939, 1926, 1938, 2030,\n",
       "       1911, 1904, 1949, 1932, 1928, 1929, 1927, 1931, 1914, 2050, 1934,\n",
       "       1910, 1933, 1902, 1924, 1921, 1900, 2038, 2026, 1944, 1917, 1901,\n",
       "       2010, 1908, 1906, 1935, 1806, 2021, 2012, 2006, 1909, 2008, 1378,\n",
       "       1919, 1922, 1897, 2024, 1376, 2037])"
      ]
     },
     "execution_count": 22,
     "metadata": {},
     "output_type": "execute_result"
    }
   ],
   "source": [
    "# checking for unique values in publication year \n",
    "books_df['Publication_year'].unique()"
   ]
  },
  {
   "cell_type": "markdown",
   "id": "40b855ca-0bb9-41c5-aa5d-9714ee155ba3",
   "metadata": {},
   "source": [
    "The analysis above reinforces our initial observations regarding the publication year data. The range spanning from 0 to 2050 clearly includes some misleading or inaccurate information. This wide spread, particularly the presence of years far into the future and the anomalous year 0, indicates potential data entry errors or placeholder values. To gain a more comprehensive understanding of these anomalies and their impact on our dataset, we'll need to conduct a more detailed investigation."
   ]
  },
  {
   "cell_type": "code",
   "execution_count": 23,
   "id": "443f077e",
   "metadata": {},
   "outputs": [],
   "source": [
    "# Filtering the df for extreme values values \n",
    "df_filtered = books_df[(books_df['Publication_year'] >= 2020) | \n",
    "                 ((books_df['Publication_year'] >= 0) & (books_df['Publication_year'] <= 200))]"
   ]
  },
  {
   "cell_type": "code",
   "execution_count": 24,
   "id": "fb841c23",
   "metadata": {},
   "outputs": [
    {
     "data": {
      "text/plain": [
       "4489"
      ]
     },
     "execution_count": 24,
     "metadata": {},
     "output_type": "execute_result"
    }
   ],
   "source": [
    "# Checkign for the number of unique book titles in this range \n",
    "df_filtered['Title'].nunique()"
   ]
  },
  {
   "cell_type": "code",
   "execution_count": 25,
   "id": "8a3d25ca",
   "metadata": {},
   "outputs": [
    {
     "data": {
      "text/plain": [
       "(4635, 6)"
      ]
     },
     "execution_count": 25,
     "metadata": {},
     "output_type": "execute_result"
    }
   ],
   "source": [
    "# Checking the shaep of this datafreme that has the outliears \n",
    "df_filtered.shape"
   ]
  },
  {
   "cell_type": "code",
   "execution_count": 26,
   "id": "f9690c15",
   "metadata": {},
   "outputs": [],
   "source": [
    "# filtering for rows with the publication year of 2020 and above \n",
    "new_df = df_filtered[(df_filtered['Publication_year'] > 2020)]"
   ]
  },
  {
   "cell_type": "code",
   "execution_count": 27,
   "id": "3a47a6ef",
   "metadata": {},
   "outputs": [
    {
     "data": {
      "text/html": [
       "<div>\n",
       "<style scoped>\n",
       "    .dataframe tbody tr th:only-of-type {\n",
       "        vertical-align: middle;\n",
       "    }\n",
       "\n",
       "    .dataframe tbody tr th {\n",
       "        vertical-align: top;\n",
       "    }\n",
       "\n",
       "    .dataframe thead th {\n",
       "        text-align: right;\n",
       "    }\n",
       "</style>\n",
       "<table border=\"1\" class=\"dataframe\">\n",
       "  <thead>\n",
       "    <tr style=\"text-align: right;\">\n",
       "      <th></th>\n",
       "      <th>ISBN</th>\n",
       "      <th>Title</th>\n",
       "      <th>Author</th>\n",
       "      <th>Publication_year</th>\n",
       "      <th>Publisher</th>\n",
       "      <th>Image_URL</th>\n",
       "    </tr>\n",
       "  </thead>\n",
       "  <tbody>\n",
       "    <tr>\n",
       "      <th>37487</th>\n",
       "      <td>0671746103</td>\n",
       "      <td>MY TEACHER FRIED MY BRAINS (RACK SIZE) (MY TEA...</td>\n",
       "      <td>Coville</td>\n",
       "      <td>2030</td>\n",
       "      <td>Aladdin</td>\n",
       "      <td>http://images.amazon.com/images/P/0671746103.0...</td>\n",
       "    </tr>\n",
       "    <tr>\n",
       "      <th>55676</th>\n",
       "      <td>0671791990</td>\n",
       "      <td>MY TEACHER FLUNKED THE PLANET (RACK SIZE) (MY ...</td>\n",
       "      <td>Bruce Coville</td>\n",
       "      <td>2030</td>\n",
       "      <td>Aladdin</td>\n",
       "      <td>http://images.amazon.com/images/P/0671791990.0...</td>\n",
       "    </tr>\n",
       "    <tr>\n",
       "      <th>78168</th>\n",
       "      <td>0870449842</td>\n",
       "      <td>Crossing America</td>\n",
       "      <td>National Geographic Society</td>\n",
       "      <td>2030</td>\n",
       "      <td>National Geographic</td>\n",
       "      <td>http://images.amazon.com/images/P/0870449842.0...</td>\n",
       "    </tr>\n",
       "    <tr>\n",
       "      <th>80264</th>\n",
       "      <td>0140301690</td>\n",
       "      <td>Alice's Adventures in Wonderland and Through t...</td>\n",
       "      <td>Lewis Carroll</td>\n",
       "      <td>2050</td>\n",
       "      <td>Puffin Books</td>\n",
       "      <td>http://images.amazon.com/images/P/0140301690.0...</td>\n",
       "    </tr>\n",
       "    <tr>\n",
       "      <th>97826</th>\n",
       "      <td>0140201092</td>\n",
       "      <td>Outline of European Architecture (Pelican S.)</td>\n",
       "      <td>Nikolaus Pevsner</td>\n",
       "      <td>2050</td>\n",
       "      <td>Penguin USA</td>\n",
       "      <td>http://images.amazon.com/images/P/0140201092.0...</td>\n",
       "    </tr>\n",
       "    <tr>\n",
       "      <th>116053</th>\n",
       "      <td>0394701658</td>\n",
       "      <td>Three Plays of Eugene Oneill</td>\n",
       "      <td>Eugene O'Neill</td>\n",
       "      <td>2038</td>\n",
       "      <td>Vintage Books USA</td>\n",
       "      <td>http://images.amazon.com/images/P/0394701658.0...</td>\n",
       "    </tr>\n",
       "    <tr>\n",
       "      <th>118294</th>\n",
       "      <td>3442436893</td>\n",
       "      <td>Das groÃ?Â?e BÃ?Â¶se- MÃ?Â¤dchen- Lesebuch.</td>\n",
       "      <td>Kathy Lette</td>\n",
       "      <td>2026</td>\n",
       "      <td>Goldmann</td>\n",
       "      <td>http://images.amazon.com/images/P/3442436893.0...</td>\n",
       "    </tr>\n",
       "    <tr>\n",
       "      <th>183769</th>\n",
       "      <td>0590085417</td>\n",
       "      <td>Heidi</td>\n",
       "      <td>Johanna Spyri</td>\n",
       "      <td>2021</td>\n",
       "      <td>Scholastic</td>\n",
       "      <td>http://images.amazon.com/images/P/0590085417.0...</td>\n",
       "    </tr>\n",
       "    <tr>\n",
       "      <th>192993</th>\n",
       "      <td>0870446924</td>\n",
       "      <td>Field Guide to the Birds of North America, 3rd...</td>\n",
       "      <td>National Geographic Society</td>\n",
       "      <td>2030</td>\n",
       "      <td>National Geographic</td>\n",
       "      <td>http://images.amazon.com/images/P/0870446924.0...</td>\n",
       "    </tr>\n",
       "    <tr>\n",
       "      <th>228173</th>\n",
       "      <td>0671266500</td>\n",
       "      <td>FOREST PEOPLE (Touchstone Books (Hardcover))</td>\n",
       "      <td>Colin M. Turnbull</td>\n",
       "      <td>2030</td>\n",
       "      <td>Simon &amp;amp; Schuster</td>\n",
       "      <td>http://images.amazon.com/images/P/0671266500.0...</td>\n",
       "    </tr>\n",
       "    <tr>\n",
       "      <th>240169</th>\n",
       "      <td>0684718022</td>\n",
       "      <td>In Our Time: Stories (Scribner Classic)</td>\n",
       "      <td>Ernest Hemingway</td>\n",
       "      <td>2030</td>\n",
       "      <td>Collier Books</td>\n",
       "      <td>http://images.amazon.com/images/P/0684718022.0...</td>\n",
       "    </tr>\n",
       "    <tr>\n",
       "      <th>246842</th>\n",
       "      <td>0380000059</td>\n",
       "      <td>CLOUT</td>\n",
       "      <td>D. GIBBONS</td>\n",
       "      <td>2024</td>\n",
       "      <td>Avon</td>\n",
       "      <td>http://images.amazon.com/images/P/0380000059.0...</td>\n",
       "    </tr>\n",
       "    <tr>\n",
       "      <th>255409</th>\n",
       "      <td>068471809X</td>\n",
       "      <td>To Have and Have Not</td>\n",
       "      <td>Ernest Hemingway</td>\n",
       "      <td>2037</td>\n",
       "      <td>Simon &amp;amp; Schuster</td>\n",
       "      <td>http://images.amazon.com/images/P/068471809X.0...</td>\n",
       "    </tr>\n",
       "    <tr>\n",
       "      <th>260974</th>\n",
       "      <td>0671740989</td>\n",
       "      <td>FOOTBALL SUPER TEAMS : FOOTBALL SUPER TEAMS</td>\n",
       "      <td>Bill Gutman</td>\n",
       "      <td>2030</td>\n",
       "      <td>Simon &amp;amp; Schuster Children's Publishing</td>\n",
       "      <td>http://images.amazon.com/images/P/0671740989.0...</td>\n",
       "    </tr>\n",
       "  </tbody>\n",
       "</table>\n",
       "</div>"
      ],
      "text/plain": [
       "              ISBN                                              Title  \\\n",
       "37487   0671746103  MY TEACHER FRIED MY BRAINS (RACK SIZE) (MY TEA...   \n",
       "55676   0671791990  MY TEACHER FLUNKED THE PLANET (RACK SIZE) (MY ...   \n",
       "78168   0870449842                                   Crossing America   \n",
       "80264   0140301690  Alice's Adventures in Wonderland and Through t...   \n",
       "97826   0140201092      Outline of European Architecture (Pelican S.)   \n",
       "116053  0394701658                       Three Plays of Eugene Oneill   \n",
       "118294  3442436893        Das groÃ?Â?e BÃ?Â¶se- MÃ?Â¤dchen- Lesebuch.   \n",
       "183769  0590085417                                              Heidi   \n",
       "192993  0870446924  Field Guide to the Birds of North America, 3rd...   \n",
       "228173  0671266500       FOREST PEOPLE (Touchstone Books (Hardcover))   \n",
       "240169  0684718022            In Our Time: Stories (Scribner Classic)   \n",
       "246842  0380000059                                              CLOUT   \n",
       "255409  068471809X                               To Have and Have Not   \n",
       "260974  0671740989        FOOTBALL SUPER TEAMS : FOOTBALL SUPER TEAMS   \n",
       "\n",
       "                             Author  Publication_year  \\\n",
       "37487                       Coville              2030   \n",
       "55676                 Bruce Coville              2030   \n",
       "78168   National Geographic Society              2030   \n",
       "80264                 Lewis Carroll              2050   \n",
       "97826              Nikolaus Pevsner              2050   \n",
       "116053               Eugene O'Neill              2038   \n",
       "118294                  Kathy Lette              2026   \n",
       "183769                Johanna Spyri              2021   \n",
       "192993  National Geographic Society              2030   \n",
       "228173            Colin M. Turnbull              2030   \n",
       "240169             Ernest Hemingway              2030   \n",
       "246842                   D. GIBBONS              2024   \n",
       "255409             Ernest Hemingway              2037   \n",
       "260974                  Bill Gutman              2030   \n",
       "\n",
       "                                         Publisher  \\\n",
       "37487                                      Aladdin   \n",
       "55676                                      Aladdin   \n",
       "78168                          National Geographic   \n",
       "80264                                 Puffin Books   \n",
       "97826                                  Penguin USA   \n",
       "116053                           Vintage Books USA   \n",
       "118294                                    Goldmann   \n",
       "183769                                  Scholastic   \n",
       "192993                         National Geographic   \n",
       "228173                        Simon &amp; Schuster   \n",
       "240169                               Collier Books   \n",
       "246842                                        Avon   \n",
       "255409                        Simon &amp; Schuster   \n",
       "260974  Simon &amp; Schuster Children's Publishing   \n",
       "\n",
       "                                                Image_URL  \n",
       "37487   http://images.amazon.com/images/P/0671746103.0...  \n",
       "55676   http://images.amazon.com/images/P/0671791990.0...  \n",
       "78168   http://images.amazon.com/images/P/0870449842.0...  \n",
       "80264   http://images.amazon.com/images/P/0140301690.0...  \n",
       "97826   http://images.amazon.com/images/P/0140201092.0...  \n",
       "116053  http://images.amazon.com/images/P/0394701658.0...  \n",
       "118294  http://images.amazon.com/images/P/3442436893.0...  \n",
       "183769  http://images.amazon.com/images/P/0590085417.0...  \n",
       "192993  http://images.amazon.com/images/P/0870446924.0...  \n",
       "228173  http://images.amazon.com/images/P/0671266500.0...  \n",
       "240169  http://images.amazon.com/images/P/0684718022.0...  \n",
       "246842  http://images.amazon.com/images/P/0380000059.0...  \n",
       "255409  http://images.amazon.com/images/P/068471809X.0...  \n",
       "260974  http://images.amazon.com/images/P/0671740989.0...  "
      ]
     },
     "execution_count": 27,
     "metadata": {},
     "output_type": "execute_result"
    }
   ],
   "source": [
    "new_df"
   ]
  },
  {
   "cell_type": "code",
   "execution_count": 28,
   "id": "928005fb",
   "metadata": {},
   "outputs": [
    {
     "data": {
      "text/plain": [
       "array([2030, 2050, 2038, 2026, 2021, 2024, 2037])"
      ]
     },
     "execution_count": 28,
     "metadata": {},
     "output_type": "execute_result"
    }
   ],
   "source": [
    "# Seeing the unique years in this df \n",
    "new_df['Publication_year'].unique()"
   ]
  },
  {
   "cell_type": "code",
   "execution_count": 29,
   "id": "f08b0495",
   "metadata": {},
   "outputs": [
    {
     "data": {
      "text/plain": [
       "array(['MY TEACHER FRIED MY BRAINS (RACK SIZE) (MY TEACHER BOOKS)',\n",
       "       'MY TEACHER FLUNKED THE PLANET (RACK SIZE) (MY TEACHER BOOKS)',\n",
       "       'Crossing America',\n",
       "       \"Alice's Adventures in Wonderland and Through the Looking Glass (Puffin Books)\",\n",
       "       'Outline of European Architecture (Pelican S.)',\n",
       "       'Three Plays of Eugene Oneill',\n",
       "       'Das groÃ?Â?e BÃ?Â¶se- MÃ?Â¤dchen- Lesebuch.', 'Heidi',\n",
       "       'Field Guide to the Birds of North America, 3rd Ed.',\n",
       "       'FOREST PEOPLE (Touchstone Books (Hardcover))',\n",
       "       'In Our Time: Stories (Scribner Classic)', 'CLOUT',\n",
       "       'To Have and Have Not',\n",
       "       'FOOTBALL SUPER TEAMS : FOOTBALL SUPER TEAMS'], dtype=object)"
      ]
     },
     "execution_count": 29,
     "metadata": {},
     "output_type": "execute_result"
    }
   ],
   "source": [
    "# Seeign the unique titles in this df \n",
    "new_df['Title'].unique()"
   ]
  },
  {
   "cell_type": "markdown",
   "id": "b39c35dd-28b0-4e86-b218-40bb70c75853",
   "metadata": {},
   "source": [
    "Our analysis reveals that only 7 unique publication years fall within the range of 2020-2050, representing a small subset of potentially erroneous entries. Given that books cannot have future publication dates, we can confidently identify these as incorrect data points. Further investigation into these specific titles confirms that their publication years are indeed inaccurate. Due to the limited number of affected entries, we have opted for a manual correction approach. This method allows us to precisely address these anomalies without risking broader data integrity. Below, we implement these targeted corrections to ensure the accuracy of our publication year data for subsequent analysis and modeling."
   ]
  },
  {
   "cell_type": "code",
   "execution_count": 31,
   "id": "03e66d92",
   "metadata": {},
   "outputs": [],
   "source": [
    "# Lists of titles and corresponding publication years\n",
    "titles = [\n",
    "    \"Alice's Adventures in Wonderland and Through the Looking Glass (Puffin Books)\",\n",
    "    \"MY TEACHER FRIED MY BRAINS (RACK SIZE) (MY TEACHER BOOKS)\",\n",
    "    \"To Have and Have Not\",\n",
    "    'MY TEACHER FLUNKED THE PLANET (RACK SIZE) (MY TEACHER BOOKS)',\n",
    "    'Outline of European Architecture (Pelican S.)',\n",
    "    'Three Plays of Eugene Oneill',\n",
    "    'Field Guide to the Birds of North America, 3rd Ed.',\n",
    "    'FOREST PEOPLE (Touchstone Books (Hardcover))',\n",
    "    'In Our Time: Stories (Scribner Classic)', \n",
    "    'CLOUT',\n",
    "    'FOOTBALL SUPER TEAMS : FOOTBALL SUPER TEAMS'\n",
    "]\n",
    "publication_years = [1866, 1991, 1937, 1992, 1944, 1949, 1999, 1987, 1986, 2014, 1991]\n",
    "\n",
    "# Update the DataFrame using a loop\n",
    "for title, year in zip(titles, publication_years):\n",
    "    books_df.loc[books_df['Title'] == title, 'Publication_year'] = year"
   ]
  },
  {
   "cell_type": "markdown",
   "id": "00935e01-073f-48b6-bc7e-df437f535206",
   "metadata": {},
   "source": [
    "Our manual investigation revealed that some book titles have publication years that are either incorrect or unable to be verified through online sources. These titles include entries with unusual or potentially erroneous data. Rather than removing these records entirely, we've decided to replace their publication years with 0. This approach allows us to retain these books in our dataset for other analyses while clearly marking their publication years as unreliable or unknown.\n",
    "\n",
    "By setting these problematic publication years to 0, we maintain consistency with our earlier data cleaning steps. We will address all entries with a publication year of 0 in a subsequent processing step, ensuring a comprehensive approach to handling uncertain or inaccurate temporal data in our dataset."
   ]
  },
  {
   "cell_type": "code",
   "execution_count": 32,
   "id": "6b023396",
   "metadata": {},
   "outputs": [],
   "source": [
    "# Titles to update\n",
    "titles_to_update = [\n",
    "    'Crossing America',\n",
    "    'Das groÃ?Â?e BÃ?Â¶se- MÃ?Â¤dchen- Lesebuch.',\n",
    "    'Heidi'\n",
    "]\n",
    "\n",
    "# Replace publication year with 0 for these titles\n",
    "books_df.loc[books_df['Title'].isin(titles_to_update), 'Publication_year'] = 0"
   ]
  },
  {
   "cell_type": "code",
   "execution_count": 33,
   "id": "bb9445cb",
   "metadata": {},
   "outputs": [
    {
     "data": {
      "text/plain": [
       "array([2002, 2001, 1991, 1999, 2000, 1993, 1996, 1988, 2004, 1998, 1994,\n",
       "       2003, 1997, 1983, 1979, 1995, 1982, 1985, 1992, 1986, 1978, 1980,\n",
       "       1952, 1987, 1990, 1981, 1989, 1984,    0, 1968, 1961, 1958, 1974,\n",
       "       1976, 1971, 1977, 1975, 1965, 1941, 1970, 1962, 1973, 1972, 1960,\n",
       "       1966, 1920, 1956, 1959, 1953, 1951, 1942, 1963, 1964, 1969, 1954,\n",
       "       1950, 1967, 2005, 1957, 1940, 1937, 1955, 1946, 1936, 1930, 2011,\n",
       "       1925, 1948, 1943, 1947, 1945, 1923, 2020, 1939, 1926, 1938, 1911,\n",
       "       1904, 1949, 1932, 1928, 1929, 1927, 1931, 1914, 1866, 1934, 1910,\n",
       "       1933, 1944, 1902, 1924, 1921, 1900, 1917, 1901, 2010, 1908, 1906,\n",
       "       1935, 1806, 2012, 2006, 1909, 2008, 1378, 1919, 1922, 1897, 2014,\n",
       "       1376])"
      ]
     },
     "execution_count": 33,
     "metadata": {},
     "output_type": "execute_result"
    }
   ],
   "source": [
    "# checking for unique values in publication year \n",
    "books_df['Publication_year'].unique()"
   ]
  },
  {
   "cell_type": "markdown",
   "id": "33d9cc3d-9b77-4b85-8ae5-e91ad0e6ecbf",
   "metadata": {},
   "source": [
    "Now we can see that we do not have any anomolies for datas past 2020, now let's look into the outliers in the daat for dates from 0 - 1500"
   ]
  },
  {
   "cell_type": "code",
   "execution_count": 34,
   "id": "500577c6",
   "metadata": {},
   "outputs": [],
   "source": [
    "# Filtering the df for extreme values values \n",
    "df_old_years = df_filtered[(df_filtered['Publication_year'] >= 0) & (df_filtered['Publication_year'] <= 1500)]"
   ]
  },
  {
   "cell_type": "code",
   "execution_count": 35,
   "id": "aa871fc7",
   "metadata": {},
   "outputs": [
    {
     "data": {
      "text/html": [
       "<div>\n",
       "<style scoped>\n",
       "    .dataframe tbody tr th:only-of-type {\n",
       "        vertical-align: middle;\n",
       "    }\n",
       "\n",
       "    .dataframe tbody tr th {\n",
       "        vertical-align: top;\n",
       "    }\n",
       "\n",
       "    .dataframe thead th {\n",
       "        text-align: right;\n",
       "    }\n",
       "</style>\n",
       "<table border=\"1\" class=\"dataframe\">\n",
       "  <thead>\n",
       "    <tr style=\"text-align: right;\">\n",
       "      <th></th>\n",
       "      <th>ISBN</th>\n",
       "      <th>Title</th>\n",
       "      <th>Author</th>\n",
       "      <th>Publication_year</th>\n",
       "      <th>Publisher</th>\n",
       "      <th>Image_URL</th>\n",
       "    </tr>\n",
       "  </thead>\n",
       "  <tbody>\n",
       "    <tr>\n",
       "      <th>176</th>\n",
       "      <td>3150000335</td>\n",
       "      <td>Kabale Und Liebe</td>\n",
       "      <td>Schiller</td>\n",
       "      <td>0</td>\n",
       "      <td>Philipp Reclam, Jun Verlag GmbH</td>\n",
       "      <td>http://images.amazon.com/images/P/3150000335.0...</td>\n",
       "    </tr>\n",
       "    <tr>\n",
       "      <th>188</th>\n",
       "      <td>342311360X</td>\n",
       "      <td>Die Liebe in Den Zelten</td>\n",
       "      <td>Gabriel Garcia Marquez</td>\n",
       "      <td>0</td>\n",
       "      <td>Deutscher Taschenbuch Verlag (DTV)</td>\n",
       "      <td>http://images.amazon.com/images/P/342311360X.0...</td>\n",
       "    </tr>\n",
       "    <tr>\n",
       "      <th>288</th>\n",
       "      <td>0571197639</td>\n",
       "      <td>Poisonwood Bible Edition Uk</td>\n",
       "      <td>Barbara Kingsolver</td>\n",
       "      <td>0</td>\n",
       "      <td>Faber Faber Inc</td>\n",
       "      <td>http://images.amazon.com/images/P/0571197639.0...</td>\n",
       "    </tr>\n",
       "    <tr>\n",
       "      <th>351</th>\n",
       "      <td>3596214629</td>\n",
       "      <td>Herr Der Fliegen (Fiction, Poetry and Drama)</td>\n",
       "      <td>Golding</td>\n",
       "      <td>0</td>\n",
       "      <td>Fischer Taschenbuch Verlag GmbH</td>\n",
       "      <td>http://images.amazon.com/images/P/3596214629.0...</td>\n",
       "    </tr>\n",
       "    <tr>\n",
       "      <th>542</th>\n",
       "      <td>8845229041</td>\n",
       "      <td>Biblioteca Universale Rizzoli: Sulla Sponda De...</td>\n",
       "      <td>P Coelho</td>\n",
       "      <td>0</td>\n",
       "      <td>Fabbri - RCS Libri</td>\n",
       "      <td>http://images.amazon.com/images/P/8845229041.0...</td>\n",
       "    </tr>\n",
       "    <tr>\n",
       "      <th>...</th>\n",
       "      <td>...</td>\n",
       "      <td>...</td>\n",
       "      <td>...</td>\n",
       "      <td>...</td>\n",
       "      <td>...</td>\n",
       "      <td>...</td>\n",
       "    </tr>\n",
       "    <tr>\n",
       "      <th>270794</th>\n",
       "      <td>014029953X</td>\n",
       "      <td>Foe (Essential.penguin S.)</td>\n",
       "      <td>J.M. Coetzee</td>\n",
       "      <td>0</td>\n",
       "      <td>Penguin Books Ltd</td>\n",
       "      <td>http://images.amazon.com/images/P/014029953X.0...</td>\n",
       "    </tr>\n",
       "    <tr>\n",
       "      <th>270913</th>\n",
       "      <td>0340571187</td>\n",
       "      <td>Postmens House</td>\n",
       "      <td>Maggie Hemingway</td>\n",
       "      <td>0</td>\n",
       "      <td>Trafalgar Square</td>\n",
       "      <td>http://images.amazon.com/images/P/0340571187.0...</td>\n",
       "    </tr>\n",
       "    <tr>\n",
       "      <th>271094</th>\n",
       "      <td>8427201079</td>\n",
       "      <td>El Misterio De Sittaford</td>\n",
       "      <td>Agatha Christie</td>\n",
       "      <td>0</td>\n",
       "      <td>Editorial Molino</td>\n",
       "      <td>http://images.amazon.com/images/P/8427201079.0...</td>\n",
       "    </tr>\n",
       "    <tr>\n",
       "      <th>271182</th>\n",
       "      <td>0887781721</td>\n",
       "      <td>Tom Penny</td>\n",
       "      <td>Tony German</td>\n",
       "      <td>0</td>\n",
       "      <td>P. Martin Associates</td>\n",
       "      <td>http://images.amazon.com/images/P/0887781721.0...</td>\n",
       "    </tr>\n",
       "    <tr>\n",
       "      <th>271196</th>\n",
       "      <td>3150013763</td>\n",
       "      <td>Der Hofmeister</td>\n",
       "      <td>Jakob Lenz</td>\n",
       "      <td>0</td>\n",
       "      <td>Philipp Reclam, Jun Verlag GmbH</td>\n",
       "      <td>http://images.amazon.com/images/P/3150013763.0...</td>\n",
       "    </tr>\n",
       "  </tbody>\n",
       "</table>\n",
       "<p>4618 rows × 6 columns</p>\n",
       "</div>"
      ],
      "text/plain": [
       "              ISBN                                              Title  \\\n",
       "176     3150000335                                   Kabale Und Liebe   \n",
       "188     342311360X                            Die Liebe in Den Zelten   \n",
       "288     0571197639                        Poisonwood Bible Edition Uk   \n",
       "351     3596214629       Herr Der Fliegen (Fiction, Poetry and Drama)   \n",
       "542     8845229041  Biblioteca Universale Rizzoli: Sulla Sponda De...   \n",
       "...            ...                                                ...   \n",
       "270794  014029953X                         Foe (Essential.penguin S.)   \n",
       "270913  0340571187                                     Postmens House   \n",
       "271094  8427201079                           El Misterio De Sittaford   \n",
       "271182  0887781721                                          Tom Penny   \n",
       "271196  3150013763                                     Der Hofmeister   \n",
       "\n",
       "                        Author  Publication_year  \\\n",
       "176                   Schiller                 0   \n",
       "188     Gabriel Garcia Marquez                 0   \n",
       "288         Barbara Kingsolver                 0   \n",
       "351                    Golding                 0   \n",
       "542                   P Coelho                 0   \n",
       "...                        ...               ...   \n",
       "270794            J.M. Coetzee                 0   \n",
       "270913        Maggie Hemingway                 0   \n",
       "271094         Agatha Christie                 0   \n",
       "271182             Tony German                 0   \n",
       "271196              Jakob Lenz                 0   \n",
       "\n",
       "                                 Publisher  \\\n",
       "176        Philipp Reclam, Jun Verlag GmbH   \n",
       "188     Deutscher Taschenbuch Verlag (DTV)   \n",
       "288                        Faber Faber Inc   \n",
       "351        Fischer Taschenbuch Verlag GmbH   \n",
       "542                     Fabbri - RCS Libri   \n",
       "...                                    ...   \n",
       "270794                   Penguin Books Ltd   \n",
       "270913                    Trafalgar Square   \n",
       "271094                    Editorial Molino   \n",
       "271182                P. Martin Associates   \n",
       "271196     Philipp Reclam, Jun Verlag GmbH   \n",
       "\n",
       "                                                Image_URL  \n",
       "176     http://images.amazon.com/images/P/3150000335.0...  \n",
       "188     http://images.amazon.com/images/P/342311360X.0...  \n",
       "288     http://images.amazon.com/images/P/0571197639.0...  \n",
       "351     http://images.amazon.com/images/P/3596214629.0...  \n",
       "542     http://images.amazon.com/images/P/8845229041.0...  \n",
       "...                                                   ...  \n",
       "270794  http://images.amazon.com/images/P/014029953X.0...  \n",
       "270913  http://images.amazon.com/images/P/0340571187.0...  \n",
       "271094  http://images.amazon.com/images/P/8427201079.0...  \n",
       "271182  http://images.amazon.com/images/P/0887781721.0...  \n",
       "271196  http://images.amazon.com/images/P/3150013763.0...  \n",
       "\n",
       "[4618 rows x 6 columns]"
      ]
     },
     "execution_count": 35,
     "metadata": {},
     "output_type": "execute_result"
    }
   ],
   "source": [
    "df_old_years"
   ]
  },
  {
   "cell_type": "markdown",
   "id": "564da667-e332-4751-b2c1-33b742241eb1",
   "metadata": {},
   "source": [
    "Our analysis reveals a significant data quality issue: 4,618 rows have publication years ranging from 0 to 1500. While dropping these rows would result in substantial data loss, further investigation shows that many of these entries are simply incorrect. For instance, \"The Postman's House\" by Maggie Hemingway is listed with a publication year of 0, when it was actually published in 1992.\n",
    "\n",
    "Given the large number of entries with year 0, manual correction is impractical. Instead, we'll adopt a more systematic approach to clean this data, making it more valuable and usable for our future modeling efforts without introducing errors or complications.\n",
    "\n",
    "Our solution involves creating bins for the publication years. This strategy will allow us to categorize the problematic entries (including those with year 0) into an \"unknown\" category. This approach preserves the data while mitigating the impact of incorrect entries on our model. By implementing this binning method, we ensure that our dataset remains comprehensive while improving its overall reliability for subsequent analysis and model building."
   ]
  },
  {
   "cell_type": "code",
   "execution_count": 36,
   "id": "8609eb2c-4111-4232-8463-de98453faf31",
   "metadata": {},
   "outputs": [],
   "source": [
    "# Defining bin edges based on the distribution of years\n",
    "bins = [0, 1, 1900, 1950, 1980, 2000, 2010, np.inf]\n",
    "\n",
    "# Defining labels for the bins\n",
    "labels = ['Unknown', 'Pre-1900', '1900-1949', '1950-1979', '1980-1999', '2000-2009', '2010 onwards']\n",
    "\n",
    "# Assuming your DataFrame is called 'df' and the column is 'Publication_year'\n",
    "books_df['Year_Category'] = pd.cut(books_df['Publication_year'], bins=bins, labels=labels, include_lowest=True)\n",
    "\n",
    "# Handling 0 values separately\n",
    "books_df.loc[books_df['Publication_year'] == 0, 'Year_Category'] = 'Unknown'"
   ]
  },
  {
   "cell_type": "code",
   "execution_count": 37,
   "id": "2b075c18-a8ba-4bf3-a840-9e3a5148eaea",
   "metadata": {},
   "outputs": [],
   "source": [
    "# Rearranging the order of the columns \n",
    "books_df = books_df[['ISBN', 'Title', 'Author', 'Publisher', 'Publication_year', 'Year_Category', 'Image_URL']]"
   ]
  },
  {
   "cell_type": "code",
   "execution_count": 38,
   "id": "7417c097-ea80-4bbd-a05f-0a870913a1a4",
   "metadata": {},
   "outputs": [
    {
     "data": {
      "text/html": [
       "<div>\n",
       "<style scoped>\n",
       "    .dataframe tbody tr th:only-of-type {\n",
       "        vertical-align: middle;\n",
       "    }\n",
       "\n",
       "    .dataframe tbody tr th {\n",
       "        vertical-align: top;\n",
       "    }\n",
       "\n",
       "    .dataframe thead th {\n",
       "        text-align: right;\n",
       "    }\n",
       "</style>\n",
       "<table border=\"1\" class=\"dataframe\">\n",
       "  <thead>\n",
       "    <tr style=\"text-align: right;\">\n",
       "      <th></th>\n",
       "      <th>ISBN</th>\n",
       "      <th>Title</th>\n",
       "      <th>Author</th>\n",
       "      <th>Publisher</th>\n",
       "      <th>Publication_year</th>\n",
       "      <th>Year_Category</th>\n",
       "      <th>Image_URL</th>\n",
       "    </tr>\n",
       "  </thead>\n",
       "  <tbody>\n",
       "    <tr>\n",
       "      <th>0</th>\n",
       "      <td>0195153448</td>\n",
       "      <td>Classical Mythology</td>\n",
       "      <td>Mark P. O. Morford</td>\n",
       "      <td>Oxford University Press</td>\n",
       "      <td>2002</td>\n",
       "      <td>2000-2009</td>\n",
       "      <td>http://images.amazon.com/images/P/0195153448.0...</td>\n",
       "    </tr>\n",
       "    <tr>\n",
       "      <th>1</th>\n",
       "      <td>0002005018</td>\n",
       "      <td>Clara Callan</td>\n",
       "      <td>Richard Bruce Wright</td>\n",
       "      <td>HarperFlamingo Canada</td>\n",
       "      <td>2001</td>\n",
       "      <td>2000-2009</td>\n",
       "      <td>http://images.amazon.com/images/P/0002005018.0...</td>\n",
       "    </tr>\n",
       "    <tr>\n",
       "      <th>2</th>\n",
       "      <td>0060973129</td>\n",
       "      <td>Decision in Normandy</td>\n",
       "      <td>Carlo D'Este</td>\n",
       "      <td>HarperPerennial</td>\n",
       "      <td>1991</td>\n",
       "      <td>1980-1999</td>\n",
       "      <td>http://images.amazon.com/images/P/0060973129.0...</td>\n",
       "    </tr>\n",
       "    <tr>\n",
       "      <th>3</th>\n",
       "      <td>0374157065</td>\n",
       "      <td>Flu: The Story of the Great Influenza Pandemic...</td>\n",
       "      <td>Gina Bari Kolata</td>\n",
       "      <td>Farrar Straus Giroux</td>\n",
       "      <td>1999</td>\n",
       "      <td>1980-1999</td>\n",
       "      <td>http://images.amazon.com/images/P/0374157065.0...</td>\n",
       "    </tr>\n",
       "    <tr>\n",
       "      <th>4</th>\n",
       "      <td>0393045218</td>\n",
       "      <td>The Mummies of Urumchi</td>\n",
       "      <td>E. J. W. Barber</td>\n",
       "      <td>W. W. Norton &amp;amp; Company</td>\n",
       "      <td>1999</td>\n",
       "      <td>1980-1999</td>\n",
       "      <td>http://images.amazon.com/images/P/0393045218.0...</td>\n",
       "    </tr>\n",
       "  </tbody>\n",
       "</table>\n",
       "</div>"
      ],
      "text/plain": [
       "         ISBN                                              Title  \\\n",
       "0  0195153448                                Classical Mythology   \n",
       "1  0002005018                                       Clara Callan   \n",
       "2  0060973129                               Decision in Normandy   \n",
       "3  0374157065  Flu: The Story of the Great Influenza Pandemic...   \n",
       "4  0393045218                             The Mummies of Urumchi   \n",
       "\n",
       "                 Author                   Publisher  Publication_year  \\\n",
       "0    Mark P. O. Morford     Oxford University Press              2002   \n",
       "1  Richard Bruce Wright       HarperFlamingo Canada              2001   \n",
       "2          Carlo D'Este             HarperPerennial              1991   \n",
       "3      Gina Bari Kolata        Farrar Straus Giroux              1999   \n",
       "4       E. J. W. Barber  W. W. Norton &amp; Company              1999   \n",
       "\n",
       "  Year_Category                                          Image_URL  \n",
       "0     2000-2009  http://images.amazon.com/images/P/0195153448.0...  \n",
       "1     2000-2009  http://images.amazon.com/images/P/0002005018.0...  \n",
       "2     1980-1999  http://images.amazon.com/images/P/0060973129.0...  \n",
       "3     1980-1999  http://images.amazon.com/images/P/0374157065.0...  \n",
       "4     1980-1999  http://images.amazon.com/images/P/0393045218.0...  "
      ]
     },
     "execution_count": 38,
     "metadata": {},
     "output_type": "execute_result"
    }
   ],
   "source": [
    "# Looking at the first 5 rows of the books daat once cleaned\n",
    "books_df.head()"
   ]
  },
  {
   "cell_type": "code",
   "execution_count": 39,
   "id": "743463c7-6585-439e-af42-8395a21937f5",
   "metadata": {},
   "outputs": [
    {
     "data": {
      "text/plain": [
       "Year_Category\n",
       "1980-1999       193346\n",
       "2000-2009        55231\n",
       "1950-1979        17808\n",
       "Unknown           4632\n",
       "1900-1949          321\n",
       "Pre-1900             8\n",
       "2010 onwards         7\n",
       "Name: count, dtype: int64"
      ]
     },
     "execution_count": 39,
     "metadata": {},
     "output_type": "execute_result"
    }
   ],
   "source": [
    "# Value counts for the publiscation year category to see which bins have the highest count \n",
    "books_df['Year_Category'].value_counts()"
   ]
  },
  {
   "cell_type": "code",
   "execution_count": 40,
   "id": "50804a3a-d6b0-4872-b892-f93edc0d3d5a",
   "metadata": {},
   "outputs": [
    {
     "data": {
      "image/png": "[encoded data removed]",
      "text/plain": [
       "<Figure size 1000x600 with 1 Axes>"
      ]
     },
     "metadata": {},
     "output_type": "display_data"
    }
   ],
   "source": [
    "#creating a bar chart to see which bins have the highest count\n",
    "year_counts = books_df['Year_Category'].value_counts()\n",
    "\n",
    "plt.figure(figsize=(10, 6))\n",
    "year_counts.plot(kind='bar')\n",
    "plt.title('Book Counts by Year Category')\n",
    "plt.xlabel('Year Category')\n",
    "plt.ylabel('Count')\n",
    "plt.xticks(rotation=45)\n",
    "plt.tight_layout()\n",
    "plt.show()"
   ]
  },
  {
   "cell_type": "markdown",
   "id": "1609b09c-005d-442f-9c22-d3caaa5771d1",
   "metadata": {},
   "source": [
    "**Analysis of Book Year Categories** \n",
    "\n",
    "- Peak Period: 1980-1999\n",
    "This period has the highest book count, indicating a significant boom in publishing.\n",
    "\n",
    "- Second Highest: 2000-2009\n",
    "Counts here are about 1/4 of the previous decade, suggesting a decline in volume.\n",
    "\n",
    "- Data Quality Issues\n",
    "Unknown Years (Year 0): A large number of books lack publication years, which may skew analysis.\n",
    "\n",
    "**Underrepresented Periods:**\n",
    "\n",
    "- Pre-1900: Only 8 books\n",
    "\n",
    "- 2010 onwards: Only 7 books\n",
    "\n",
    "These low counts could lead to unreliable predictions and biased recommendations.\n",
    "\n",
    "**Implications for Modeling**\n",
    "- Data Imbalance: Models may favor the 1980-1999 period due to higher counts.\n",
    "\n",
    "- Limited Recent Data: Few books from 2010 onwards may hinder contemporary recommendations.\n",
    "\n",
    "- Historical Blind Spots: Scarcity of pre-1900 books limits insights into classic literature."
   ]
  },
  {
   "cell_type": "code",
   "execution_count": 41,
   "id": "61bec315-1b9a-4ce9-a38f-7ae56553d78c",
   "metadata": {},
   "outputs": [
    {
     "data": {
      "text/plain": [
       "ISBN                0.0\n",
       "Title               0.0\n",
       "Author              0.0\n",
       "Publisher           0.0\n",
       "Publication_year    0.0\n",
       "Year_Category       0.0\n",
       "Image_URL           0.0\n",
       "dtype: float64"
      ]
     },
     "execution_count": 41,
     "metadata": {},
     "output_type": "execute_result"
    }
   ],
   "source": [
    "# Sanity check\n",
    "((books_df.isna().sum()/books_df.shape[0])*100).sort_values(ascending=False)"
   ]
  },
  {
   "cell_type": "markdown",
   "id": "b17f4187-b0d3-4ed8-b625-aac9915ed24e",
   "metadata": {},
   "source": [
    "We have cleaned and done some prepricessing for out books data, now let's looking to the ratings data. "
   ]
  },
  {
   "cell_type": "markdown",
   "id": "c9d186aa-b17a-4704-bb01-405d39e71b9c",
   "metadata": {},
   "source": [
    "<a id=\"ratings-data\"></a>\n",
    "### Ratings Data\n",
    "[Back to Table of Contents](#table-of-content)"
   ]
  },
  {
   "cell_type": "code",
   "execution_count": 42,
   "id": "2609a1d4-6466-466a-9bde-79296be0b338",
   "metadata": {},
   "outputs": [
    {
     "data": {
      "text/html": [
       "<div>\n",
       "<style scoped>\n",
       "    .dataframe tbody tr th:only-of-type {\n",
       "        vertical-align: middle;\n",
       "    }\n",
       "\n",
       "    .dataframe tbody tr th {\n",
       "        vertical-align: top;\n",
       "    }\n",
       "\n",
       "    .dataframe thead th {\n",
       "        text-align: right;\n",
       "    }\n",
       "</style>\n",
       "<table border=\"1\" class=\"dataframe\">\n",
       "  <thead>\n",
       "    <tr style=\"text-align: right;\">\n",
       "      <th></th>\n",
       "      <th>User-ID</th>\n",
       "      <th>ISBN</th>\n",
       "      <th>Book-Rating</th>\n",
       "    </tr>\n",
       "  </thead>\n",
       "  <tbody>\n",
       "    <tr>\n",
       "      <th>0</th>\n",
       "      <td>276725</td>\n",
       "      <td>034545104X</td>\n",
       "      <td>0</td>\n",
       "    </tr>\n",
       "    <tr>\n",
       "      <th>1</th>\n",
       "      <td>276726</td>\n",
       "      <td>0155061224</td>\n",
       "      <td>5</td>\n",
       "    </tr>\n",
       "    <tr>\n",
       "      <th>2</th>\n",
       "      <td>276727</td>\n",
       "      <td>0446520802</td>\n",
       "      <td>0</td>\n",
       "    </tr>\n",
       "    <tr>\n",
       "      <th>3</th>\n",
       "      <td>276729</td>\n",
       "      <td>052165615X</td>\n",
       "      <td>3</td>\n",
       "    </tr>\n",
       "    <tr>\n",
       "      <th>4</th>\n",
       "      <td>276729</td>\n",
       "      <td>0521795028</td>\n",
       "      <td>6</td>\n",
       "    </tr>\n",
       "  </tbody>\n",
       "</table>\n",
       "</div>"
      ],
      "text/plain": [
       "   User-ID        ISBN  Book-Rating\n",
       "0   276725  034545104X            0\n",
       "1   276726  0155061224            5\n",
       "2   276727  0446520802            0\n",
       "3   276729  052165615X            3\n",
       "4   276729  0521795028            6"
      ]
     },
     "execution_count": 42,
     "metadata": {},
     "output_type": "execute_result"
    }
   ],
   "source": [
    "# Looking into the first 5 rows of the dataset\n",
    "ratings_df.head()"
   ]
  },
  {
   "cell_type": "markdown",
   "id": "2c8c496e-fdc6-4f64-9f56-476f77c7f835",
   "metadata": {},
   "source": [
    "At a first glance we can see that we have the user ID, the ISBN number and the rating that each user gave to the a perticular book refrenced by the ISBN number here."
   ]
  },
  {
   "cell_type": "code",
   "execution_count": 43,
   "id": "4661d363-66a4-474e-8f21-fc6f4cf99460",
   "metadata": {},
   "outputs": [
    {
     "name": "stdout",
     "output_type": "stream",
     "text": [
      "We have 1149780 rows and 3 columns in the books dataset\n"
     ]
    }
   ],
   "source": [
    "# Looking at the shape of the books data\n",
    "ratings_df.shape\n",
    "print(f\"We have {ratings_df.shape[0]} rows and {ratings_df.shape[1]} columns in the books dataset\")"
   ]
  },
  {
   "cell_type": "code",
   "execution_count": 44,
   "id": "763ec1b8-8e48-45ed-802c-040744a4ca92",
   "metadata": {},
   "outputs": [
    {
     "data": {
      "text/plain": [
       "Index(['User-ID', 'ISBN', 'Book-Rating'], dtype='object')"
      ]
     },
     "execution_count": 44,
     "metadata": {},
     "output_type": "execute_result"
    }
   ],
   "source": [
    "# looking into the columsn of the ratings data \n",
    "ratings_df.columns"
   ]
  },
  {
   "cell_type": "code",
   "execution_count": 45,
   "id": "ccf64dfc-e5b0-476e-b3b9-7a6b686fce81",
   "metadata": {},
   "outputs": [
    {
     "data": {
      "text/plain": [
       "np.int64(0)"
      ]
     },
     "execution_count": 45,
     "metadata": {},
     "output_type": "execute_result"
    }
   ],
   "source": [
    "# Seeing if the books dataset has any duplicated rows \n",
    "ratings_df.duplicated().sum()"
   ]
  },
  {
   "cell_type": "code",
   "execution_count": 46,
   "id": "bab656b2",
   "metadata": {},
   "outputs": [],
   "source": [
    "# Renaming column\n",
    "ratings_df.rename(columns={'User-ID': 'User_id', 'Book-Rating': 'Ratings'}, inplace=True)"
   ]
  },
  {
   "cell_type": "code",
   "execution_count": 47,
   "id": "458b2bc3-01df-4042-9cd2-ef2a1db11ce3",
   "metadata": {},
   "outputs": [
    {
     "data": {
      "text/plain": [
       "User_id    0.0\n",
       "ISBN       0.0\n",
       "Ratings    0.0\n",
       "dtype: float64"
      ]
     },
     "execution_count": 47,
     "metadata": {},
     "output_type": "execute_result"
    }
   ],
   "source": [
    "# checking to se eif we have any null values in out data that we need to handle \n",
    "((ratings_df.isna().sum()/ratings_df.shape[0])*100).sort_values(ascending=False)"
   ]
  },
  {
   "cell_type": "markdown",
   "id": "86b3ee56-dd69-4355-bf6c-e66ff9e6e964",
   "metadata": {},
   "source": [
    "We can see that the data for ratings is clean and we have no duplicated rows of columns for this data. Now, lets take a deeper look into what these ratings are and how the count of each rating varies."
   ]
  },
  {
   "cell_type": "code",
   "execution_count": 48,
   "id": "ef62bdf8-51f0-4ba6-953c-705104492a76",
   "metadata": {},
   "outputs": [
    {
     "data": {
      "image/png": "[encoded data removed]",
      "text/plain": [
       "<Figure size 1000x600 with 1 Axes>"
      ]
     },
     "metadata": {},
     "output_type": "display_data"
    }
   ],
   "source": [
    "# Counting the occurrences of each rating\n",
    "rating_counts = ratings_df['Ratings'].value_counts().sort_index()\n",
    "\n",
    "# Creating the bar graph\n",
    "plt.figure(figsize=(10, 6))\n",
    "plt.bar(rating_counts.index, rating_counts.values)\n",
    "\n",
    "# Customizing the graph\n",
    "plt.title('Distribution of Book Ratings')\n",
    "plt.xlabel('Rating')\n",
    "plt.ylabel('Rating Count')\n",
    "plt.xticks(range(0, max(rating_counts.index) + 1))\n",
    "\n",
    "# Adding value labels on top of each bar\n",
    "for i, v in enumerate(rating_counts.values):\n",
    "    plt.text(rating_counts.index[i], v, str(v), ha='center', va='bottom')\n",
    "\n",
    "plt.show()"
   ]
  },
  {
   "cell_type": "markdown",
   "id": "5adf82f0-3902-49cc-a17a-11516268bc70",
   "metadata": {},
   "source": [
    "Our analysis of the rating distribution reveals significant insights into user behavior and book popularity within our dataset. The ratings span from 0 to 10, with a notable concentration at 0, representing 716,109 instances. This high count of zero ratings indicates that a substantial number of books have not received user ratings, or users have not provided feedback for many ISBNs.\n",
    "\n",
    "Despite the prevalence of unrated items, the dataset remains valuable due to the considerable volume of ratings in the 1-10 range. A clear trend emerges: users tend to be generous in their assessments, with a higher frequency of ratings in the 5-10 range compared to 1-4. This skew towards positive ratings suggests an overall satisfaction with the books or a potential bias towards favorable reviews.\n",
    "\n",
    "Particularly noteworthy is the peak at rating 8, which stands out as the most common non-zero rating. This preference for high scores, especially 8, indicates a strong positive sentiment among active users. The distribution pattern provides crucial insights for our recommendation system, highlighting the importance of considering this positive bias in our model development and interpretation of user preferences."
   ]
  },
  {
   "cell_type": "code",
   "execution_count": 49,
   "id": "3eebf8d3-ce9a-45c6-800f-15b59e5a9bc7",
   "metadata": {},
   "outputs": [
    {
     "name": "stdout",
     "output_type": "stream",
     "text": [
      "The mean global rating: 2.87\n"
     ]
    }
   ],
   "source": [
    "print(f'The mean global rating: {round(ratings_df['Ratings'].mean(), 2)}')"
   ]
  },
  {
   "cell_type": "code",
   "execution_count": 50,
   "id": "8b0df167-087f-4772-b945-14485e1bbd5d",
   "metadata": {},
   "outputs": [
    {
     "name": "stdout",
     "output_type": "stream",
     "text": [
      "Mean ratings per user: 4.39\n"
     ]
    }
   ],
   "source": [
    "mean_rating = ratings_df.groupby('User_id')['Ratings'].mean()\n",
    "print(f'Mean ratings per user: {round(mean_rating.mean(), 2)}')"
   ]
  },
  {
   "cell_type": "code",
   "execution_count": 51,
   "id": "e968962b-b1b1-44e5-86c3-c8613d5d345e",
   "metadata": {},
   "outputs": [
    {
     "name": "stdout",
     "output_type": "stream",
     "text": [
      "\n",
      "Statistics of books rated per user:\n",
      "count    105283.000000\n",
      "mean         10.920851\n",
      "std          90.562825\n",
      "min           1.000000\n",
      "25%           1.000000\n",
      "50%           1.000000\n",
      "75%           4.000000\n",
      "max       13602.000000\n",
      "Name: Ratings, dtype: float64\n",
      "\n",
      "Top 10 users who rated the most books:\n",
      "User_id\n",
      "11676     13602\n",
      "198711     7550\n",
      "153662     6109\n",
      "98391      5891\n",
      "35859      5850\n",
      "212898     4785\n",
      "278418     4533\n",
      "76352      3367\n",
      "110973     3100\n",
      "235105     3067\n",
      "Name: Ratings, dtype: int64\n"
     ]
    }
   ],
   "source": [
    "# Counting the number of books rated by each user\n",
    "user_rating_counts = ratings_df.groupby('User_id')['Ratings'].count()\n",
    "\n",
    "# Getting some basic statistics\n",
    "print(\"\\nStatistics of books rated per user:\")\n",
    "print(user_rating_counts.describe())\n",
    "\n",
    "# To see users who rated the most books\n",
    "print(\"\\nTop 10 users who rated the most books:\")\n",
    "print(user_rating_counts.sort_values(ascending=False).head(10))"
   ]
  },
  {
   "cell_type": "code",
   "execution_count": 52,
   "id": "eadf44f4-e425-41dd-b355-f0d646858dc4",
   "metadata": {},
   "outputs": [
    {
     "data": {
      "image/png": "[encoded data removed]",
      "text/plain": [
       "<Figure size 1200x600 with 1 Axes>"
      ]
     },
     "metadata": {},
     "output_type": "display_data"
    }
   ],
   "source": [
    "# Ploting a distrubtion of books rated per user \n",
    "plt.figure(figsize=(12, 6))\n",
    "plt.hist(user_rating_counts, bins=50, edgecolor='black')\n",
    "plt.title('Distribution of Books Rated per User', fontsize=16)\n",
    "plt.xlabel('Number of Books Rated', fontsize=14)\n",
    "plt.ylabel('Number of Users', fontsize=14)\n",
    "plt.xticks(fontsize=12)\n",
    "plt.yticks(fontsize=12)\n",
    "\n",
    "# Adding some padding to the x-axis to reduce squeezing\n",
    "plt.xlim(0, user_rating_counts.max() * 1.1)\n",
    "\n",
    "# Using log scale for y-axis to better show the distribution\n",
    "plt.yscale('log')\n",
    "\n",
    "plt.tight_layout()\n",
    "plt.show()"
   ]
  },
  {
   "cell_type": "markdown",
   "id": "c47233c9-e02a-478a-b757-116d4c85711b",
   "metadata": {},
   "source": [
    "Our analysis of user rating behavior reveals a significant skew towards minimal engagement. The graph illustrates a clear inverse relationship between the number of books rated and the number of users providing those ratings. This distribution is heavily weighted towards users who have rated only a single book, with a sharp decline in user numbers as the rating count increases.\n",
    "\n",
    "This pattern indicates that the majority of users in our dataset are not highly active in providing ratings, suggesting a low level of sustained engagement with the rating system. As we move along the x-axis, representing an increase in the number of books rated, we observe a consistent decrease in the number of users, forming a long-tail distribution.\n",
    "\n",
    "This insight is crucial for our recommendation system development, particularly when considering collaborative filtering approaches. Collaborative filtering relies on user interactions and preferences to generate recommendations. The effectiveness of this method could be limited by the predominance of users with minimal rating activity.\n",
    "\n",
    "For our model development:\n",
    "1. We may need to focus on the more active subset of users to build robust user profiles.\n",
    "2. We should consider implementing techniques to address the cold-start problem for new or infrequent users.\n",
    "3. Hybrid approaches combining collaborative filtering with content-based methods might be necessary to provide reliable recommendations across our user base.\n",
    "\n",
    "Understanding this user behavior is essential for tailoring our recommendation strategy and setting realistic expectations for model performance, especially in scenarios with limited user interaction data."
   ]
  },
  {
   "cell_type": "markdown",
   "id": "763ccd6a-6686-4d54-b647-048f092244cf",
   "metadata": {},
   "source": [
    "<a id=\"merging-datasets\"></a>\n",
    "### Methodology"
   ]
  },
  {
   "cell_type": "markdown",
   "id": "eb08a9ef-cf18-402a-a78f-bd8645a33340",
   "metadata": {},
   "source": [
    "Having refined our books and ratings datasets, we now proceed to consolidate this information into a single, comprehensive dataset. This merger will streamline our analysis process and provide a more holistic view of our data.\n",
    "\n",
    "We'll use the ISBN (International Standard Book Number) as the key for this integration. The ISBN serves as a unique identifier for each book, ensuring accurate matching between the two datasets. This universal code is ideal for our purposes, as it's consistently used across the publishing industry and our datasets"
   ]
  },
  {
   "cell_type": "code",
   "execution_count": 53,
   "id": "ba1ca157-cb91-41b7-8e66-dcdd0d742c83",
   "metadata": {},
   "outputs": [],
   "source": [
    "# Merging the book and ratiungs data on ISBN \n",
    "ratings_with_books = ratings_df.merge(books_df, on='ISBN')"
   ]
  },
  {
   "cell_type": "code",
   "execution_count": 54,
   "id": "4d9769b8-0176-420e-a221-820a80e0ca7d",
   "metadata": {},
   "outputs": [
    {
     "data": {
      "text/html": [
       "<div>\n",
       "<style scoped>\n",
       "    .dataframe tbody tr th:only-of-type {\n",
       "        vertical-align: middle;\n",
       "    }\n",
       "\n",
       "    .dataframe tbody tr th {\n",
       "        vertical-align: top;\n",
       "    }\n",
       "\n",
       "    .dataframe thead th {\n",
       "        text-align: right;\n",
       "    }\n",
       "</style>\n",
       "<table border=\"1\" class=\"dataframe\">\n",
       "  <thead>\n",
       "    <tr style=\"text-align: right;\">\n",
       "      <th></th>\n",
       "      <th>User_id</th>\n",
       "      <th>ISBN</th>\n",
       "      <th>Ratings</th>\n",
       "      <th>Title</th>\n",
       "      <th>Author</th>\n",
       "      <th>Publisher</th>\n",
       "      <th>Publication_year</th>\n",
       "      <th>Year_Category</th>\n",
       "      <th>Image_URL</th>\n",
       "    </tr>\n",
       "  </thead>\n",
       "  <tbody>\n",
       "    <tr>\n",
       "      <th>0</th>\n",
       "      <td>276725</td>\n",
       "      <td>034545104X</td>\n",
       "      <td>0</td>\n",
       "      <td>Flesh Tones: A Novel</td>\n",
       "      <td>M. J. Rose</td>\n",
       "      <td>Ballantine Books</td>\n",
       "      <td>2002</td>\n",
       "      <td>2000-2009</td>\n",
       "      <td>http://images.amazon.com/images/P/034545104X.0...</td>\n",
       "    </tr>\n",
       "    <tr>\n",
       "      <th>1</th>\n",
       "      <td>276726</td>\n",
       "      <td>0155061224</td>\n",
       "      <td>5</td>\n",
       "      <td>Rites of Passage</td>\n",
       "      <td>Judith Rae</td>\n",
       "      <td>Heinle</td>\n",
       "      <td>2001</td>\n",
       "      <td>2000-2009</td>\n",
       "      <td>http://images.amazon.com/images/P/0155061224.0...</td>\n",
       "    </tr>\n",
       "    <tr>\n",
       "      <th>2</th>\n",
       "      <td>276727</td>\n",
       "      <td>0446520802</td>\n",
       "      <td>0</td>\n",
       "      <td>The Notebook</td>\n",
       "      <td>Nicholas Sparks</td>\n",
       "      <td>Warner Books</td>\n",
       "      <td>1996</td>\n",
       "      <td>1980-1999</td>\n",
       "      <td>http://images.amazon.com/images/P/0446520802.0...</td>\n",
       "    </tr>\n",
       "    <tr>\n",
       "      <th>3</th>\n",
       "      <td>276729</td>\n",
       "      <td>052165615X</td>\n",
       "      <td>3</td>\n",
       "      <td>Help!: Level 1</td>\n",
       "      <td>Philip Prowse</td>\n",
       "      <td>Cambridge University Press</td>\n",
       "      <td>1999</td>\n",
       "      <td>1980-1999</td>\n",
       "      <td>http://images.amazon.com/images/P/052165615X.0...</td>\n",
       "    </tr>\n",
       "    <tr>\n",
       "      <th>4</th>\n",
       "      <td>276729</td>\n",
       "      <td>0521795028</td>\n",
       "      <td>6</td>\n",
       "      <td>The Amsterdam Connection : Level 4 (Cambridge ...</td>\n",
       "      <td>Sue Leather</td>\n",
       "      <td>Cambridge University Press</td>\n",
       "      <td>2001</td>\n",
       "      <td>2000-2009</td>\n",
       "      <td>http://images.amazon.com/images/P/0521795028.0...</td>\n",
       "    </tr>\n",
       "  </tbody>\n",
       "</table>\n",
       "</div>"
      ],
      "text/plain": [
       "   User_id        ISBN  Ratings  \\\n",
       "0   276725  034545104X        0   \n",
       "1   276726  0155061224        5   \n",
       "2   276727  0446520802        0   \n",
       "3   276729  052165615X        3   \n",
       "4   276729  0521795028        6   \n",
       "\n",
       "                                               Title           Author  \\\n",
       "0                               Flesh Tones: A Novel       M. J. Rose   \n",
       "1                                   Rites of Passage       Judith Rae   \n",
       "2                                       The Notebook  Nicholas Sparks   \n",
       "3                                     Help!: Level 1    Philip Prowse   \n",
       "4  The Amsterdam Connection : Level 4 (Cambridge ...      Sue Leather   \n",
       "\n",
       "                    Publisher  Publication_year Year_Category  \\\n",
       "0            Ballantine Books              2002     2000-2009   \n",
       "1                      Heinle              2001     2000-2009   \n",
       "2                Warner Books              1996     1980-1999   \n",
       "3  Cambridge University Press              1999     1980-1999   \n",
       "4  Cambridge University Press              2001     2000-2009   \n",
       "\n",
       "                                           Image_URL  \n",
       "0  http://images.amazon.com/images/P/034545104X.0...  \n",
       "1  http://images.amazon.com/images/P/0155061224.0...  \n",
       "2  http://images.amazon.com/images/P/0446520802.0...  \n",
       "3  http://images.amazon.com/images/P/052165615X.0...  \n",
       "4  http://images.amazon.com/images/P/0521795028.0...  "
      ]
     },
     "execution_count": 54,
     "metadata": {},
     "output_type": "execute_result"
    }
   ],
   "source": [
    "# Looking at the top 5 rows of the merged dataframe \n",
    "ratings_with_books.head()"
   ]
  },
  {
   "cell_type": "code",
   "execution_count": 55,
   "id": "89d2d41f-1a93-4c6d-bae6-ff5c18e55a6f",
   "metadata": {},
   "outputs": [
    {
     "name": "stdout",
     "output_type": "stream",
     "text": [
      "We have 1031128 rows and 9 columns in the merged dataset\n"
     ]
    }
   ],
   "source": [
    "# Looking at the shape of our new data\n",
    "ratings_with_books.shape\n",
    "print(f\"We have {ratings_with_books.shape[0]} rows and {ratings_with_books.shape[1]} columns in the merged dataset\")"
   ]
  },
  {
   "cell_type": "code",
   "execution_count": 56,
   "id": "19f7587c-96fa-4a9a-8319-0e761308ae03",
   "metadata": {},
   "outputs": [
    {
     "data": {
      "text/plain": [
       "User_id             0\n",
       "ISBN                0\n",
       "Ratings             0\n",
       "Title               0\n",
       "Author              0\n",
       "Publisher           0\n",
       "Publication_year    0\n",
       "Year_Category       0\n",
       "Image_URL           0\n",
       "dtype: int64"
      ]
     },
     "execution_count": 56,
     "metadata": {},
     "output_type": "execute_result"
    }
   ],
   "source": [
    "# Looking at the null values in the column to see which columns have the most null values\n",
    "ratings_with_books.isnull().sum().sort_values(ascending=False)"
   ]
  },
  {
   "cell_type": "code",
   "execution_count": 57,
   "id": "c6e63c77-0081-44b2-88ff-405d7a30013a",
   "metadata": {},
   "outputs": [
    {
     "data": {
      "text/plain": [
       "np.int64(0)"
      ]
     },
     "execution_count": 57,
     "metadata": {},
     "output_type": "execute_result"
    }
   ],
   "source": [
    "ratings_with_books.duplicated().sum()"
   ]
  },
  {
   "cell_type": "markdown",
   "id": "6ad53679-71d4-4c98-b805-cfdb0ba20088",
   "metadata": {},
   "source": [
    "We can see that we have no null values of duplicated rows in the in the merged dataframe as we already clean both the data."
   ]
  },
  {
   "cell_type": "code",
   "execution_count": 58,
   "id": "d787d730-b229-4f46-b16d-79ea36887eb2",
   "metadata": {},
   "outputs": [
    {
     "data": {
      "text/plain": [
       "Title\n",
       "Wild Animus                                        2502\n",
       "The Lovely Bones: A Novel                          1295\n",
       "The Da Vinci Code                                   898\n",
       "A Painted House                                     838\n",
       "The Nanny Diaries: A Novel                          828\n",
       "Bridget Jones's Diary                               815\n",
       "The Secret Life of Bees                             774\n",
       "Divine Secrets of the Ya-Ya Sisterhood: A Novel     740\n",
       "The Red Tent (Bestselling Backlist)                 723\n",
       "Angels &amp; Demons                                 670\n",
       "Name: count, dtype: int64"
      ]
     },
     "execution_count": 58,
     "metadata": {},
     "output_type": "execute_result"
    }
   ],
   "source": [
    "# Quick overview of the top top most rated Books \n",
    "ratings_with_books['Title'].value_counts()[0:10]"
   ]
  },
  {
   "cell_type": "markdown",
   "id": "208dfc0a-ccb6-4058-a876-90454983e275",
   "metadata": {},
   "source": [
    "To enhance our merged dataframe's informativeness, we'll perform additional aggregations, providing a more comprehensive view of our data. Our first focus is on determining the total number of ratings for each book. This aggregation will offer valuable insights into book popularity and user engagement.\n",
    "\n",
    "We'll use a groupby operation on the book titles to account for potential duplicates, such as multiple editions of popular series like Harry Potter. This approach ensures we capture the total number of ratings across all instances of a unique title, rather than treating each ISBN as a separate entity.\n",
    "\n",
    "By aggregating ratings at the title level, we'll gain a clearer picture of which books are truly the most popular or highly rated in our dataset. This information will be crucial for understanding user preferences and potentially identifying trending or influential books within our collection. Such insights will be invaluable as we progress towards developing our recommendation system, helping us to better understand the dynamics of user engagement with different titles. "
   ]
  },
  {
   "cell_type": "code",
   "execution_count": 59,
   "id": "043d63d3-21db-4971-a9f8-ba5e450fbf89",
   "metadata": {},
   "outputs": [],
   "source": [
    "# Finding the rating per title \n",
    "rating_per_title = ratings_with_books.groupby('Title')['Ratings'].count().reset_index()"
   ]
  },
  {
   "cell_type": "code",
   "execution_count": 60,
   "id": "e3013b77-fab7-4acd-91b2-51155b9f2fb9",
   "metadata": {},
   "outputs": [],
   "source": [
    "# Renaming columns\n",
    "rating_per_title.rename(columns={'Ratings': 'Total_num_of_ratings'}, inplace=True)"
   ]
  },
  {
   "cell_type": "code",
   "execution_count": 61,
   "id": "2d0c231b-e6f6-4671-ad88-9b64cb99d6bb",
   "metadata": {},
   "outputs": [
    {
     "data": {
      "text/html": [
       "<div>\n",
       "<style scoped>\n",
       "    .dataframe tbody tr th:only-of-type {\n",
       "        vertical-align: middle;\n",
       "    }\n",
       "\n",
       "    .dataframe tbody tr th {\n",
       "        vertical-align: top;\n",
       "    }\n",
       "\n",
       "    .dataframe thead th {\n",
       "        text-align: right;\n",
       "    }\n",
       "</style>\n",
       "<table border=\"1\" class=\"dataframe\">\n",
       "  <thead>\n",
       "    <tr style=\"text-align: right;\">\n",
       "      <th></th>\n",
       "      <th>Title</th>\n",
       "      <th>Total_num_of_ratings</th>\n",
       "    </tr>\n",
       "  </thead>\n",
       "  <tbody>\n",
       "    <tr>\n",
       "      <th>234945</th>\n",
       "      <td>Wild Animus</td>\n",
       "      <td>2502</td>\n",
       "    </tr>\n",
       "    <tr>\n",
       "      <th>196321</th>\n",
       "      <td>The Lovely Bones: A Novel</td>\n",
       "      <td>1295</td>\n",
       "    </tr>\n",
       "    <tr>\n",
       "      <th>183568</th>\n",
       "      <td>The Da Vinci Code</td>\n",
       "      <td>898</td>\n",
       "    </tr>\n",
       "    <tr>\n",
       "      <th>5303</th>\n",
       "      <td>A Painted House</td>\n",
       "      <td>838</td>\n",
       "    </tr>\n",
       "    <tr>\n",
       "      <th>199232</th>\n",
       "      <td>The Nanny Diaries: A Novel</td>\n",
       "      <td>828</td>\n",
       "    </tr>\n",
       "    <tr>\n",
       "      <th>...</th>\n",
       "      <td>...</td>\n",
       "      <td>...</td>\n",
       "    </tr>\n",
       "    <tr>\n",
       "      <th>58741</th>\n",
       "      <td>El Patito Feo / The Ugly Duckling - Libro y Ca...</td>\n",
       "      <td>1</td>\n",
       "    </tr>\n",
       "    <tr>\n",
       "      <th>155210</th>\n",
       "      <td>Scenes from Postmodern Life (Cultural Studies ...</td>\n",
       "      <td>1</td>\n",
       "    </tr>\n",
       "    <tr>\n",
       "      <th>155209</th>\n",
       "      <td>Scenes from Deep Time: Early Pictorial Represe...</td>\n",
       "      <td>1</td>\n",
       "    </tr>\n",
       "    <tr>\n",
       "      <th>155208</th>\n",
       "      <td>Scenes from American life;: Contemporary short...</td>\n",
       "      <td>1</td>\n",
       "    </tr>\n",
       "    <tr>\n",
       "      <th>168795</th>\n",
       "      <td>Suburban backlash: The battle for the world's ...</td>\n",
       "      <td>1</td>\n",
       "    </tr>\n",
       "  </tbody>\n",
       "</table>\n",
       "<p>241065 rows × 2 columns</p>\n",
       "</div>"
      ],
      "text/plain": [
       "                                                    Title  \\\n",
       "234945                                        Wild Animus   \n",
       "196321                          The Lovely Bones: A Novel   \n",
       "183568                                  The Da Vinci Code   \n",
       "5303                                      A Painted House   \n",
       "199232                         The Nanny Diaries: A Novel   \n",
       "...                                                   ...   \n",
       "58741   El Patito Feo / The Ugly Duckling - Libro y Ca...   \n",
       "155210  Scenes from Postmodern Life (Cultural Studies ...   \n",
       "155209  Scenes from Deep Time: Early Pictorial Represe...   \n",
       "155208  Scenes from American life;: Contemporary short...   \n",
       "168795  Suburban backlash: The battle for the world's ...   \n",
       "\n",
       "        Total_num_of_ratings  \n",
       "234945                  2502  \n",
       "196321                  1295  \n",
       "183568                   898  \n",
       "5303                     838  \n",
       "199232                   828  \n",
       "...                      ...  \n",
       "58741                      1  \n",
       "155210                     1  \n",
       "155209                     1  \n",
       "155208                     1  \n",
       "168795                     1  \n",
       "\n",
       "[241065 rows x 2 columns]"
      ]
     },
     "execution_count": 61,
     "metadata": {},
     "output_type": "execute_result"
    }
   ],
   "source": [
    "rating_per_title.sort_values(by='Total_num_of_ratings', ascending=False)"
   ]
  },
  {
   "cell_type": "markdown",
   "id": "b3382456-6e3d-48d3-8f6a-8d09a444bde3",
   "metadata": {},
   "source": [
    "Now let's merge the above data into our ratings with books data "
   ]
  },
  {
   "cell_type": "code",
   "execution_count": 62,
   "id": "d644f431-4b1b-441a-9b10-53ec44796d4d",
   "metadata": {},
   "outputs": [],
   "source": [
    "# merging the datasets to have total num of ratings per title \n",
    "ratings_with_books = ratings_with_books.merge(rating_per_title, on='Title')"
   ]
  },
  {
   "cell_type": "code",
   "execution_count": 63,
   "id": "f8729cb0-5f0c-4ede-b679-dde520869b72",
   "metadata": {},
   "outputs": [
    {
     "name": "stdout",
     "output_type": "stream",
     "text": [
      "We have 1031128 rows and 10 columns in the merged dataset\n"
     ]
    }
   ],
   "source": [
    "# Seeing the shaoe of the merged data \n",
    "ratings_with_books.shape\n",
    "print(f\"We have {ratings_with_books.shape[0]} rows and {ratings_with_books.shape[1]} columns in the merged dataset\")"
   ]
  },
  {
   "cell_type": "markdown",
   "id": "49850971-fc87-410b-9fc8-ff00b1c73ed6",
   "metadata": {},
   "source": [
    "Building upon our previous analysis of total ratings per book, we'll now focus on calculating the average rating for each title. This approach provides a more nuanced perspective on book popularity and user satisfaction.\n",
    "\n",
    "By using the groupby operation on book titles and computing the mean rating, we can identify which books are not just frequently rated, but also highly regarded by readers. This average rating metric offers insight into the overall reception of each book, balancing out the potential bias that could come from looking at total ratings alone."
   ]
  },
  {
   "cell_type": "code",
   "execution_count": 64,
   "id": "61cd7028-7a20-4e20-bb86-4718c4113c96",
   "metadata": {},
   "outputs": [
    {
     "data": {
      "text/html": [
       "<div>\n",
       "<style scoped>\n",
       "    .dataframe tbody tr th:only-of-type {\n",
       "        vertical-align: middle;\n",
       "    }\n",
       "\n",
       "    .dataframe tbody tr th {\n",
       "        vertical-align: top;\n",
       "    }\n",
       "\n",
       "    .dataframe thead th {\n",
       "        text-align: right;\n",
       "    }\n",
       "</style>\n",
       "<table border=\"1\" class=\"dataframe\">\n",
       "  <thead>\n",
       "    <tr style=\"text-align: right;\">\n",
       "      <th></th>\n",
       "      <th>Title</th>\n",
       "      <th>Ratings</th>\n",
       "    </tr>\n",
       "  </thead>\n",
       "  <tbody>\n",
       "    <tr>\n",
       "      <th>0</th>\n",
       "      <td>A Light in the Storm: The Civil War Diary of ...</td>\n",
       "      <td>2.25</td>\n",
       "    </tr>\n",
       "    <tr>\n",
       "      <th>1</th>\n",
       "      <td>Always Have Popsicles</td>\n",
       "      <td>0.00</td>\n",
       "    </tr>\n",
       "    <tr>\n",
       "      <th>2</th>\n",
       "      <td>Apple Magic (The Collector's series)</td>\n",
       "      <td>0.00</td>\n",
       "    </tr>\n",
       "    <tr>\n",
       "      <th>3</th>\n",
       "      <td>Ask Lily (Young Women of Faith: Lily Series, ...</td>\n",
       "      <td>8.00</td>\n",
       "    </tr>\n",
       "    <tr>\n",
       "      <th>4</th>\n",
       "      <td>Beyond IBM: Leadership Marketing and Finance ...</td>\n",
       "      <td>0.00</td>\n",
       "    </tr>\n",
       "    <tr>\n",
       "      <th>...</th>\n",
       "      <td>...</td>\n",
       "      <td>...</td>\n",
       "    </tr>\n",
       "    <tr>\n",
       "      <th>241060</th>\n",
       "      <td>Ã?Â?lpiraten.</td>\n",
       "      <td>0.00</td>\n",
       "    </tr>\n",
       "    <tr>\n",
       "      <th>241061</th>\n",
       "      <td>Ã?Â?rger mit Produkt X. Roman.</td>\n",
       "      <td>5.25</td>\n",
       "    </tr>\n",
       "    <tr>\n",
       "      <th>241062</th>\n",
       "      <td>Ã?Â?sterlich leben.</td>\n",
       "      <td>7.00</td>\n",
       "    </tr>\n",
       "    <tr>\n",
       "      <th>241063</th>\n",
       "      <td>Ã?Â?stlich der Berge.</td>\n",
       "      <td>2.67</td>\n",
       "    </tr>\n",
       "    <tr>\n",
       "      <th>241064</th>\n",
       "      <td>Ã?Â?thique en toc</td>\n",
       "      <td>4.00</td>\n",
       "    </tr>\n",
       "  </tbody>\n",
       "</table>\n",
       "<p>241065 rows × 2 columns</p>\n",
       "</div>"
      ],
      "text/plain": [
       "                                                    Title  Ratings\n",
       "0        A Light in the Storm: The Civil War Diary of ...     2.25\n",
       "1                                   Always Have Popsicles     0.00\n",
       "2                    Apple Magic (The Collector's series)     0.00\n",
       "3        Ask Lily (Young Women of Faith: Lily Series, ...     8.00\n",
       "4        Beyond IBM: Leadership Marketing and Finance ...     0.00\n",
       "...                                                   ...      ...\n",
       "241060                                      Ã?Â?lpiraten.     0.00\n",
       "241061                     Ã?Â?rger mit Produkt X. Roman.     5.25\n",
       "241062                                Ã?Â?sterlich leben.     7.00\n",
       "241063                              Ã?Â?stlich der Berge.     2.67\n",
       "241064                                  Ã?Â?thique en toc     4.00\n",
       "\n",
       "[241065 rows x 2 columns]"
      ]
     },
     "execution_count": 64,
     "metadata": {},
     "output_type": "execute_result"
    }
   ],
   "source": [
    "# Finding the average ratings per title\n",
    "avg_ratings = ratings_with_books.groupby('Title')['Ratings'].mean().round(2).reset_index()\n",
    "avg_ratings"
   ]
  },
  {
   "cell_type": "code",
   "execution_count": 65,
   "id": "6b45b413-6c74-4f4c-b0ae-ae05e5956690",
   "metadata": {},
   "outputs": [],
   "source": [
    "# Renaming column\n",
    "avg_ratings.rename(columns={'Ratings': 'Avg_ratings'}, inplace=True)"
   ]
  },
  {
   "cell_type": "markdown",
   "id": "35352e5b-cab0-4177-be47-8211161ddf43",
   "metadata": {},
   "source": [
    "Similar to the above lets now merge this averge ratings into our ratings with books dataset "
   ]
  },
  {
   "cell_type": "code",
   "execution_count": 66,
   "id": "e9549d0c-cbd7-494a-b15d-9550dd2d8282",
   "metadata": {},
   "outputs": [],
   "source": [
    "# merging the datasets to have ave num of ratings per title \n",
    "ratings_with_books = ratings_with_books.merge(avg_ratings, on='Title')"
   ]
  },
  {
   "cell_type": "code",
   "execution_count": 67,
   "id": "bf7f3cf7-964a-48be-83fd-28a90d695592",
   "metadata": {},
   "outputs": [],
   "source": [
    "# reordering columns in the dataset\n",
    "ratings_with_books = ratings_with_books[['ISBN', 'Title', 'Author', 'Publisher', 'Publication_year', 'Year_Category', \n",
    "                                         'User_id', 'Ratings', 'Total_num_of_ratings', 'Avg_ratings', 'Image_URL']]"
   ]
  },
  {
   "cell_type": "code",
   "execution_count": 68,
   "id": "06c6e8e0-252a-4a87-a2db-56b5c481372c",
   "metadata": {},
   "outputs": [
    {
     "data": {
      "text/html": [
       "<div>\n",
       "<style scoped>\n",
       "    .dataframe tbody tr th:only-of-type {\n",
       "        vertical-align: middle;\n",
       "    }\n",
       "\n",
       "    .dataframe tbody tr th {\n",
       "        vertical-align: top;\n",
       "    }\n",
       "\n",
       "    .dataframe thead th {\n",
       "        text-align: right;\n",
       "    }\n",
       "</style>\n",
       "<table border=\"1\" class=\"dataframe\">\n",
       "  <thead>\n",
       "    <tr style=\"text-align: right;\">\n",
       "      <th></th>\n",
       "      <th>ISBN</th>\n",
       "      <th>Title</th>\n",
       "      <th>Author</th>\n",
       "      <th>Publisher</th>\n",
       "      <th>Publication_year</th>\n",
       "      <th>Year_Category</th>\n",
       "      <th>User_id</th>\n",
       "      <th>Ratings</th>\n",
       "      <th>Total_num_of_ratings</th>\n",
       "      <th>Avg_ratings</th>\n",
       "      <th>Image_URL</th>\n",
       "    </tr>\n",
       "  </thead>\n",
       "  <tbody>\n",
       "    <tr>\n",
       "      <th>0</th>\n",
       "      <td>034545104X</td>\n",
       "      <td>Flesh Tones: A Novel</td>\n",
       "      <td>M. J. Rose</td>\n",
       "      <td>Ballantine Books</td>\n",
       "      <td>2002</td>\n",
       "      <td>2000-2009</td>\n",
       "      <td>276725</td>\n",
       "      <td>0</td>\n",
       "      <td>60</td>\n",
       "      <td>2.93</td>\n",
       "      <td>http://images.amazon.com/images/P/034545104X.0...</td>\n",
       "    </tr>\n",
       "    <tr>\n",
       "      <th>1</th>\n",
       "      <td>0155061224</td>\n",
       "      <td>Rites of Passage</td>\n",
       "      <td>Judith Rae</td>\n",
       "      <td>Heinle</td>\n",
       "      <td>2001</td>\n",
       "      <td>2000-2009</td>\n",
       "      <td>276726</td>\n",
       "      <td>5</td>\n",
       "      <td>14</td>\n",
       "      <td>1.71</td>\n",
       "      <td>http://images.amazon.com/images/P/0155061224.0...</td>\n",
       "    </tr>\n",
       "    <tr>\n",
       "      <th>2</th>\n",
       "      <td>0446520802</td>\n",
       "      <td>The Notebook</td>\n",
       "      <td>Nicholas Sparks</td>\n",
       "      <td>Warner Books</td>\n",
       "      <td>1996</td>\n",
       "      <td>1980-1999</td>\n",
       "      <td>276727</td>\n",
       "      <td>0</td>\n",
       "      <td>650</td>\n",
       "      <td>3.56</td>\n",
       "      <td>http://images.amazon.com/images/P/0446520802.0...</td>\n",
       "    </tr>\n",
       "    <tr>\n",
       "      <th>3</th>\n",
       "      <td>052165615X</td>\n",
       "      <td>Help!: Level 1</td>\n",
       "      <td>Philip Prowse</td>\n",
       "      <td>Cambridge University Press</td>\n",
       "      <td>1999</td>\n",
       "      <td>1980-1999</td>\n",
       "      <td>276729</td>\n",
       "      <td>3</td>\n",
       "      <td>1</td>\n",
       "      <td>3.00</td>\n",
       "      <td>http://images.amazon.com/images/P/052165615X.0...</td>\n",
       "    </tr>\n",
       "    <tr>\n",
       "      <th>4</th>\n",
       "      <td>0521795028</td>\n",
       "      <td>The Amsterdam Connection : Level 4 (Cambridge ...</td>\n",
       "      <td>Sue Leather</td>\n",
       "      <td>Cambridge University Press</td>\n",
       "      <td>2001</td>\n",
       "      <td>2000-2009</td>\n",
       "      <td>276729</td>\n",
       "      <td>6</td>\n",
       "      <td>1</td>\n",
       "      <td>6.00</td>\n",
       "      <td>http://images.amazon.com/images/P/0521795028.0...</td>\n",
       "    </tr>\n",
       "  </tbody>\n",
       "</table>\n",
       "</div>"
      ],
      "text/plain": [
       "         ISBN                                              Title  \\\n",
       "0  034545104X                               Flesh Tones: A Novel   \n",
       "1  0155061224                                   Rites of Passage   \n",
       "2  0446520802                                       The Notebook   \n",
       "3  052165615X                                     Help!: Level 1   \n",
       "4  0521795028  The Amsterdam Connection : Level 4 (Cambridge ...   \n",
       "\n",
       "            Author                   Publisher  Publication_year  \\\n",
       "0       M. J. Rose            Ballantine Books              2002   \n",
       "1       Judith Rae                      Heinle              2001   \n",
       "2  Nicholas Sparks                Warner Books              1996   \n",
       "3    Philip Prowse  Cambridge University Press              1999   \n",
       "4      Sue Leather  Cambridge University Press              2001   \n",
       "\n",
       "  Year_Category  User_id  Ratings  Total_num_of_ratings  Avg_ratings  \\\n",
       "0     2000-2009   276725        0                    60         2.93   \n",
       "1     2000-2009   276726        5                    14         1.71   \n",
       "2     1980-1999   276727        0                   650         3.56   \n",
       "3     1980-1999   276729        3                     1         3.00   \n",
       "4     2000-2009   276729        6                     1         6.00   \n",
       "\n",
       "                                           Image_URL  \n",
       "0  http://images.amazon.com/images/P/034545104X.0...  \n",
       "1  http://images.amazon.com/images/P/0155061224.0...  \n",
       "2  http://images.amazon.com/images/P/0446520802.0...  \n",
       "3  http://images.amazon.com/images/P/052165615X.0...  \n",
       "4  http://images.amazon.com/images/P/0521795028.0...  "
      ]
     },
     "execution_count": 68,
     "metadata": {},
     "output_type": "execute_result"
    }
   ],
   "source": [
    "# Seeing how the dataset looks\n",
    "ratings_with_books.head()"
   ]
  },
  {
   "cell_type": "markdown",
   "id": "d55105a3-b172-4849-875f-f52cfcd0edcf",
   "metadata": {},
   "source": [
    "We have now merged the books and ratings data and have added a few more insights into this dataframe such as the total number of ratiungs per title and the average rating per title to provide us with a more holistic understanding. Now let's looking into the uers data."
   ]
  },
  {
   "cell_type": "markdown",
   "id": "e3fc5a04-873b-4364-a3a7-c227cd0c5487",
   "metadata": {},
   "source": [
    "<a id=\"users-data\"></a>\n",
    "### Users Data\n",
    "[Back to Table of Contents](#table-of-content)"
   ]
  },
  {
   "cell_type": "code",
   "execution_count": 69,
   "id": "5aa905e3-bd63-4c39-98ea-21a9699ec309",
   "metadata": {},
   "outputs": [
    {
     "data": {
      "text/html": [
       "<div>\n",
       "<style scoped>\n",
       "    .dataframe tbody tr th:only-of-type {\n",
       "        vertical-align: middle;\n",
       "    }\n",
       "\n",
       "    .dataframe tbody tr th {\n",
       "        vertical-align: top;\n",
       "    }\n",
       "\n",
       "    .dataframe thead th {\n",
       "        text-align: right;\n",
       "    }\n",
       "</style>\n",
       "<table border=\"1\" class=\"dataframe\">\n",
       "  <thead>\n",
       "    <tr style=\"text-align: right;\">\n",
       "      <th></th>\n",
       "      <th>User-ID</th>\n",
       "      <th>Location</th>\n",
       "      <th>Age</th>\n",
       "    </tr>\n",
       "  </thead>\n",
       "  <tbody>\n",
       "    <tr>\n",
       "      <th>0</th>\n",
       "      <td>1</td>\n",
       "      <td>nyc, new york, usa</td>\n",
       "      <td>NaN</td>\n",
       "    </tr>\n",
       "    <tr>\n",
       "      <th>1</th>\n",
       "      <td>2</td>\n",
       "      <td>stockton, california, usa</td>\n",
       "      <td>18.0</td>\n",
       "    </tr>\n",
       "    <tr>\n",
       "      <th>2</th>\n",
       "      <td>3</td>\n",
       "      <td>moscow, yukon territory, russia</td>\n",
       "      <td>NaN</td>\n",
       "    </tr>\n",
       "    <tr>\n",
       "      <th>3</th>\n",
       "      <td>4</td>\n",
       "      <td>porto, v.n.gaia, portugal</td>\n",
       "      <td>17.0</td>\n",
       "    </tr>\n",
       "    <tr>\n",
       "      <th>4</th>\n",
       "      <td>5</td>\n",
       "      <td>farnborough, hants, united kingdom</td>\n",
       "      <td>NaN</td>\n",
       "    </tr>\n",
       "  </tbody>\n",
       "</table>\n",
       "</div>"
      ],
      "text/plain": [
       "   User-ID                            Location   Age\n",
       "0        1                  nyc, new york, usa   NaN\n",
       "1        2           stockton, california, usa  18.0\n",
       "2        3     moscow, yukon territory, russia   NaN\n",
       "3        4           porto, v.n.gaia, portugal  17.0\n",
       "4        5  farnborough, hants, united kingdom   NaN"
      ]
     },
     "execution_count": 69,
     "metadata": {},
     "output_type": "execute_result"
    }
   ],
   "source": [
    "# Seeing the first 5 rows of the users data\n",
    "users_df.head()"
   ]
  },
  {
   "cell_type": "markdown",
   "id": "527a8d93-4829-4b1d-ba3d-db73ff0dfe67",
   "metadata": {},
   "source": [
    "At first glance we can see the the users data has the users information such as the users id, loction and the age. We can also see that we have a few missing values in the users age column and that the location is all in one column as city, state, country."
   ]
  },
  {
   "cell_type": "code",
   "execution_count": 70,
   "id": "f3aad36c-bf75-4056-b3d2-2da5e63b8b6b",
   "metadata": {},
   "outputs": [
    {
     "name": "stdout",
     "output_type": "stream",
     "text": [
      "We have 278858 rows and 3 columns in the books dataset\n"
     ]
    }
   ],
   "source": [
    "# Looking at the shape of the books data\n",
    "users_df.shape\n",
    "print(f\"We have {users_df.shape[0]} rows and {users_df.shape[1]} columns in the books dataset\")"
   ]
  },
  {
   "cell_type": "code",
   "execution_count": 71,
   "id": "7d0f4c50-b764-48ca-a60c-a523c8dbe615",
   "metadata": {},
   "outputs": [
    {
     "data": {
      "text/plain": [
       "Index(['User-ID', 'Location', 'Age'], dtype='object')"
      ]
     },
     "execution_count": 71,
     "metadata": {},
     "output_type": "execute_result"
    }
   ],
   "source": [
    "# Columns of the df \n",
    "users_df.columns"
   ]
  },
  {
   "cell_type": "code",
   "execution_count": 72,
   "id": "8deeea67",
   "metadata": {},
   "outputs": [],
   "source": [
    "# Renaming column\n",
    "users_df.rename(columns={'User-ID': 'User_id'}, inplace=True)"
   ]
  },
  {
   "cell_type": "code",
   "execution_count": 73,
   "id": "a370ac92-8c19-4033-84f0-e224f5a228c5",
   "metadata": {},
   "outputs": [
    {
     "data": {
      "text/plain": [
       "np.int64(0)"
      ]
     },
     "execution_count": 73,
     "metadata": {},
     "output_type": "execute_result"
    }
   ],
   "source": [
    "# Seeing if the books dataset has any duplicated rows \n",
    "users_df.duplicated().sum()"
   ]
  },
  {
   "cell_type": "code",
   "execution_count": 74,
   "id": "f7369c6e-2529-4558-bd35-404cf3f31eef",
   "metadata": {},
   "outputs": [
    {
     "data": {
      "text/plain": [
       "Age         39.719857\n",
       "User_id      0.000000\n",
       "Location     0.000000\n",
       "dtype: float64"
      ]
     },
     "execution_count": 74,
     "metadata": {},
     "output_type": "execute_result"
    }
   ],
   "source": [
    "# Checking for percentage null values \n",
    "((users_df.isna().sum()/users_df.shape[0])*100).sort_values(ascending=False)"
   ]
  },
  {
   "cell_type": "markdown",
   "id": "dd9dad6e-fd61-45c1-8f8f-121a86a8fa05",
   "metadata": {},
   "source": [
    "Our analysis of missing values reveals a significant challenge with the 'age' column, where 39.7% of the data is null. This presents a more complex data quality issue compared to our previous encounters with missing values.\n",
    "\n",
    "Unlike earlier instances where we could afford to drop a small percentage of incomplete rows, eliminating 40% of our dataset would result in an unacceptable loss of valuable information. Such a drastic reduction could severely impact the integrity and representativeness of our analysis and any subsequent modeling efforts.\n",
    "\n",
    "Given the importance of age data in understanding user demographics and potentially in tailoring book recommendations, we need to explore alternative strategies for handling these missing values."
   ]
  },
  {
   "cell_type": "code",
   "execution_count": 75,
   "id": "b905549a-bd56-442f-9951-8c2451c8e0a4",
   "metadata": {},
   "outputs": [
    {
     "name": "stdout",
     "output_type": "stream",
     "text": [
      "The mean age of users is 34.75143370454978\n"
     ]
    }
   ],
   "source": [
    "# Mean of age \n",
    "print(f'The mean age of users is {users_df['Age'].mean()}')"
   ]
  },
  {
   "cell_type": "code",
   "execution_count": 76,
   "id": "1e91c4c8-8c49-47b6-8ccf-5bd307ebb2de",
   "metadata": {},
   "outputs": [
    {
     "name": "stdout",
     "output_type": "stream",
     "text": [
      "The median age of the users is 32.0\n"
     ]
    }
   ],
   "source": [
    "# median of age \n",
    "print(f'The median age of the users is {users_df['Age'].median()}')"
   ]
  },
  {
   "cell_type": "code",
   "execution_count": 77,
   "id": "4358eaef-ab61-4bfa-8a81-4a276708d612",
   "metadata": {},
   "outputs": [
    {
     "data": {
      "image/png": "[encoded data removed]",
      "text/plain": [
       "<Figure size 640x480 with 1 Axes>"
      ]
     },
     "metadata": {},
     "output_type": "display_data"
    }
   ],
   "source": [
    "# Creating a histogram\n",
    "users_df['Age'].hist(bins=40, edgecolor='black', log=True)\n",
    "\n",
    "# Customizing the plot\n",
    "plt.title('Users Age distribution')\n",
    "plt.xlabel('Age')\n",
    "plt.ylabel('Frequency')\n",
    "plt.axvline(users_df['Age'].mean(), color = \"red\", label='Mean')\n",
    "plt.axvline(users_df['Age'].median(), color = \"yellow\", label='Median')\n",
    "plt.legend(loc = 'upper right')\n",
    "plt.grid()\n",
    "\n",
    "# Displaying the plot\n",
    "plt.show()"
   ]
  },
  {
   "cell_type": "markdown",
   "id": "94454f1c-f127-4918-84c5-baf4df80265b",
   "metadata": {},
   "source": [
    "Our analysis of the age distribution reveals several critical insights and data quality issues that require attention before we address the null values:\n",
    "- Distribution Skew: The frequency distribution of user ages is heavily right-skewed, with a concentration towards lower ages. This skew significantly impacts the mean age, potentially providing a misleading central tendency measure.\n",
    "- Implausible Age Range: The dataset includes ages ranging from 0 to 250 years, which is clearly impossible and indicates the presence of erroneous data. Human lifespans don't extend anywhere near 250 years, and typical reading ages start around 5-6 years old.\n",
    "- Data Cleaning Priority: Before we tackle the null values, it's crucial to address these misleading and impossible age entries. Correcting or removing these anomalies will provide a more accurate foundation for subsequent analysis and for dealing with missing values."
   ]
  },
  {
   "cell_type": "code",
   "execution_count": 78,
   "id": "2953644b",
   "metadata": {},
   "outputs": [
    {
     "data": {
      "text/html": [
       "<div>\n",
       "<style scoped>\n",
       "    .dataframe tbody tr th:only-of-type {\n",
       "        vertical-align: middle;\n",
       "    }\n",
       "\n",
       "    .dataframe tbody tr th {\n",
       "        vertical-align: top;\n",
       "    }\n",
       "\n",
       "    .dataframe thead th {\n",
       "        text-align: right;\n",
       "    }\n",
       "</style>\n",
       "<table border=\"1\" class=\"dataframe\">\n",
       "  <thead>\n",
       "    <tr style=\"text-align: right;\">\n",
       "      <th></th>\n",
       "      <th>User_id</th>\n",
       "      <th>Location</th>\n",
       "      <th>Age</th>\n",
       "    </tr>\n",
       "  </thead>\n",
       "  <tbody>\n",
       "    <tr>\n",
       "      <th>219</th>\n",
       "      <td>220</td>\n",
       "      <td>bogota, bogota, colombia</td>\n",
       "      <td>0.0</td>\n",
       "    </tr>\n",
       "    <tr>\n",
       "      <th>469</th>\n",
       "      <td>470</td>\n",
       "      <td>indianapolis, indiana, usa</td>\n",
       "      <td>0.0</td>\n",
       "    </tr>\n",
       "    <tr>\n",
       "      <th>561</th>\n",
       "      <td>562</td>\n",
       "      <td>adfdaf, australian capital territory, albania</td>\n",
       "      <td>0.0</td>\n",
       "    </tr>\n",
       "    <tr>\n",
       "      <th>612</th>\n",
       "      <td>613</td>\n",
       "      <td>ankara, n/a, turkey</td>\n",
       "      <td>1.0</td>\n",
       "    </tr>\n",
       "    <tr>\n",
       "      <th>670</th>\n",
       "      <td>671</td>\n",
       "      <td>jeddah, jeddah, saudi arabia</td>\n",
       "      <td>1.0</td>\n",
       "    </tr>\n",
       "    <tr>\n",
       "      <th>...</th>\n",
       "      <td>...</td>\n",
       "      <td>...</td>\n",
       "      <td>...</td>\n",
       "    </tr>\n",
       "    <tr>\n",
       "      <th>277075</th>\n",
       "      <td>277076</td>\n",
       "      <td>batam, riau, indonesia</td>\n",
       "      <td>3.0</td>\n",
       "    </tr>\n",
       "    <tr>\n",
       "      <th>277107</th>\n",
       "      <td>277108</td>\n",
       "      <td>quinto, ticino, switzerland</td>\n",
       "      <td>104.0</td>\n",
       "    </tr>\n",
       "    <tr>\n",
       "      <th>277503</th>\n",
       "      <td>277504</td>\n",
       "      <td>san diego, california, usa</td>\n",
       "      <td>103.0</td>\n",
       "    </tr>\n",
       "    <tr>\n",
       "      <th>277908</th>\n",
       "      <td>277909</td>\n",
       "      <td>phoenix, arizona, usa</td>\n",
       "      <td>2.0</td>\n",
       "    </tr>\n",
       "    <tr>\n",
       "      <th>278301</th>\n",
       "      <td>278302</td>\n",
       "      <td>düsseldorf, nordrhein-westfalen, germany</td>\n",
       "      <td>104.0</td>\n",
       "    </tr>\n",
       "  </tbody>\n",
       "</table>\n",
       "<p>1281 rows × 3 columns</p>\n",
       "</div>"
      ],
      "text/plain": [
       "        User_id                                       Location    Age\n",
       "219         220                       bogota, bogota, colombia    0.0\n",
       "469         470                     indianapolis, indiana, usa    0.0\n",
       "561         562  adfdaf, australian capital territory, albania    0.0\n",
       "612         613                            ankara, n/a, turkey    1.0\n",
       "670         671                   jeddah, jeddah, saudi arabia    1.0\n",
       "...         ...                                            ...    ...\n",
       "277075   277076                         batam, riau, indonesia    3.0\n",
       "277107   277108                    quinto, ticino, switzerland  104.0\n",
       "277503   277504                     san diego, california, usa  103.0\n",
       "277908   277909                          phoenix, arizona, usa    2.0\n",
       "278301   278302       düsseldorf, nordrhein-westfalen, germany  104.0\n",
       "\n",
       "[1281 rows x 3 columns]"
      ]
     },
     "execution_count": 78,
     "metadata": {},
     "output_type": "execute_result"
    }
   ],
   "source": [
    "# Filtering the df for extreme values values \n",
    "df_age = users_df[(users_df['Age'] >= 100) | ((users_df['Age'] >= 0)& (users_df['Age'] <= 5))]\n",
    "df_age"
   ]
  },
  {
   "cell_type": "markdown",
   "id": "3035cde1-998c-4252-a1d6-a5b46c9d2bcf",
   "metadata": {},
   "source": [
    "We see that we have about 1281 rows where the age is above 100 and between 0-5. These are the extreme and unrealistoc values in the data"
   ]
  },
  {
   "cell_type": "markdown",
   "id": "3e22ed63-c372-4319-842b-f6f192c12286",
   "metadata": {},
   "source": [
    "Given the significant number of rows with unrealistic age values, we need a more nuanced approach to data correction than simple mean or median imputation. Our goal is to preserve the general distribution of ages while addressing the extreme values in a way that maintains some semblance of their original range.\n",
    "\n",
    "To achieve this, we'll implement a two-step process:\n",
    "\n",
    "1. For ages below 6 years:\n",
    "   We'll calculate the median age for the 6-12 year range and use this as a replacement value. This approach ensures that these younger entries remain in the lower age bracket, maintaining a more realistic representation of young readers.\n",
    "\n",
    "2. For ages above 110 years:\n",
    "   We'll compute the median age for the 80-99 year range and apply this to all entries above 99. This method keeps the older age entries within a plausible upper range without artificially inflating the overall age distribution.\n",
    "\n",
    "This strategy offers several advantages:\n",
    "- It preserves the general shape of the age distribution.\n",
    "- It avoids the pitfalls of using overall mean or median, which could skew the data unrealistically.\n",
    "- It maintains a more accurate representation of age groups, crucial for age-based analysis in our recommendation system.\n",
    "\n",
    "By implementing this method, we create a more reliable age dataset that better reflects realistic reading demographics, providing a solid foundation for our subsequent analyses and model development."
   ]
  },
  {
   "cell_type": "code",
   "execution_count": 79,
   "id": "457aa1ed",
   "metadata": {},
   "outputs": [
    {
     "name": "stdout",
     "output_type": "stream",
     "text": [
      "count    168096.000000\n",
      "mean         34.761321\n",
      "std          14.013046\n",
      "min           6.000000\n",
      "25%          24.000000\n",
      "50%          32.000000\n",
      "75%          44.000000\n",
      "max         109.000000\n",
      "Name: Age, dtype: float64\n"
     ]
    }
   ],
   "source": [
    "# Defining median ages for the replacement\n",
    "median_ages = {\n",
    "    (6, 12): users_df[(users_df['Age'] >= 6) & (users_df['Age'] <= 12)]['Age'].median(),  # Median for 6-12\n",
    "    (80, 99): users_df[(users_df['Age'] >= 80) & (users_df['Age'] <= 99)]['Age'].median()  # Median for 80-99\n",
    "}\n",
    "\n",
    "# Function to assign median age based on original age\n",
    "def assign_median_age(age):\n",
    "    if 0 <= age <= 5:\n",
    "        return median_ages[(6, 12)]  # Replace with median of ages 6-12\n",
    "    elif 110 <= age <= 250:\n",
    "        return median_ages[(80, 99)]  # Replace with median of ages 80-99\n",
    "    else:\n",
    "        return age  # Keep the original age if it's not in the extreme ranges\n",
    "\n",
    "# Applying the function to replace extreme ages\n",
    "users_df['Age'] = users_df['Age'].apply(assign_median_age)\n",
    "\n",
    "# Printing the updated DataFrame or summary\n",
    "print(users_df['Age'].describe())"
   ]
  },
  {
   "cell_type": "code",
   "execution_count": 80,
   "id": "3573d57e",
   "metadata": {},
   "outputs": [
    {
     "data": {
      "image/png": "[encoded data removed]",
      "text/plain": [
       "<Figure size 640x480 with 1 Axes>"
      ]
     },
     "metadata": {},
     "output_type": "display_data"
    }
   ],
   "source": [
    "# Creating a histogram\n",
    "users_df['Age'].hist(bins=40, edgecolor='black')\n",
    "\n",
    "# Customizing the plot\n",
    "plt.title('Users Age distribution')\n",
    "plt.xlabel('Age')\n",
    "plt.ylabel('Frequency')\n",
    "plt.axvline(users_df['Age'].mean(), color = \"red\", label='Mean')\n",
    "plt.axvline(users_df['Age'].median(), color = \"yellow\", label='Median')\n",
    "plt.legend(loc = 'upper right')\n",
    "plt.grid()\n",
    "\n",
    "# Displaying the plot\n",
    "plt.show()"
   ]
  },
  {
   "cell_type": "markdown",
   "id": "f1350629-090c-4290-b77f-314252ea3df9",
   "metadata": {},
   "source": [
    "We see above that after dealing with the extreme cases, we still have a similar underlying distrubution for the age as we did before."
   ]
  },
  {
   "cell_type": "code",
   "execution_count": 81,
   "id": "b79a5890",
   "metadata": {},
   "outputs": [
    {
     "name": "stdout",
     "output_type": "stream",
     "text": [
      "The median age of the users is 32.0\n"
     ]
    }
   ],
   "source": [
    "# median of age \n",
    "print(f'The median age of the users is {users_df['Age'].median()}')"
   ]
  },
  {
   "cell_type": "markdown",
   "id": "61f469d7-d19f-4522-9aa2-bac58e07f772",
   "metadata": {},
   "source": [
    "To address the null values in our age column, we'll employ a more sophisticated approach than simple mean or median imputation. Our strategy aims to maintain the overall distribution of ages while filling in the missing data points.\n",
    "\n",
    "We've observed that the interquartile range (IQR) of our age data spans from 24 to 44 years, representing the 25th to 75th percentiles of our non-null age values. This range captures a significant portion of our user base and provides a realistic spectrum of ages for imputation.\n",
    "\n",
    "Our approach will be to randomly assign ages within this 24-44 range to the null values. This method offers several advantages:\n",
    "\n",
    "1. It avoids artificially concentrating data around a single point (as would happen with mean or median imputation).\n",
    "2. It preserves the general shape of our age distribution.\n",
    "3. It introduces a controlled amount of variability, which is more reflective of real-world age distributions.\n",
    "\n",
    "By randomly assigning ages within this range, we'll slightly alter the distribution, but in a way that's more robust and realistic than centralized imputation methods. This approach will help maintain the integrity of our age-related analyses and ensure that our recommendation system doesn't overly bias towards a single age point.\n",
    "\n",
    "It's important to note that while this method provides a reasonable solution, it's still an approximation. We should be transparent about this imputation in our future analyses and consider sensitivity analyses to understand how this imputation might affect our results."
   ]
  },
  {
   "cell_type": "code",
   "execution_count": 82,
   "id": "d8ca77c7-2420-4e96-8593-fd39df1f46a0",
   "metadata": {},
   "outputs": [
    {
     "name": "stdout",
     "output_type": "stream",
     "text": [
      "count    278858.000000\n",
      "mean         34.441063\n",
      "std          11.535783\n",
      "min           6.000000\n",
      "25%          26.000000\n",
      "50%          33.000000\n",
      "75%          41.000000\n",
      "max         109.000000\n",
      "Name: Age, dtype: float64\n"
     ]
    }
   ],
   "source": [
    "# Get the number of null values in the 'Age' column\n",
    "num_nulls = users_df['Age'].isnull().sum()\n",
    "\n",
    "# Generate random integers between 24 and 44 (inclusive) for the null values\n",
    "random_ages = np.random.randint(24, 45, size=num_nulls)\n",
    "\n",
    "# Fill the null values with the random ages\n",
    "users_df.loc[users_df['Age'].isnull(), 'Age'] = random_ages\n",
    "\n",
    "# Verify the changes\n",
    "print(users_df['Age'].describe())  # Check the distribution"
   ]
  },
  {
   "cell_type": "code",
   "execution_count": 83,
   "id": "78a21d67",
   "metadata": {},
   "outputs": [
    {
     "data": {
      "text/plain": [
       "User_id     0.0\n",
       "Location    0.0\n",
       "Age         0.0\n",
       "dtype: float64"
      ]
     },
     "execution_count": 83,
     "metadata": {},
     "output_type": "execute_result"
    }
   ],
   "source": [
    "# Checking for null values \n",
    "((users_df.isna().sum()/users_df.shape[0])*100).sort_values(ascending=False) "
   ]
  },
  {
   "cell_type": "code",
   "execution_count": 84,
   "id": "e2d8ce57",
   "metadata": {},
   "outputs": [
    {
     "data": {
      "image/png": "[encoded data removed]",
      "text/plain": [
       "<Figure size 640x480 with 1 Axes>"
      ]
     },
     "metadata": {},
     "output_type": "display_data"
    }
   ],
   "source": [
    "# Create a histogram\n",
    "users_df['Age'].hist(bins=40, edgecolor='black')\n",
    "\n",
    "# Customize the plot\n",
    "plt.title('Users Age distribution')\n",
    "plt.xlabel('Age')\n",
    "plt.ylabel('Frequency')\n",
    "plt.axvline(users_df['Age'].mean(), color = \"red\", label='Mean')\n",
    "plt.axvline(users_df['Age'].median(), color = \"yellow\", label='Median')\n",
    "plt.legend(loc = 'upper right')\n",
    "plt.grid()\n",
    "\n",
    "# Display the plot\n",
    "plt.show()"
   ]
  },
  {
   "cell_type": "markdown",
   "id": "fddb5954-e21d-4839-9d70-f69f36d27cf3",
   "metadata": {},
   "source": [
    "We can see that once we have solutioned for the null values there are still some ages that have a higher frequency, however, the underlying distrubition still looks similar. "
   ]
  },
  {
   "cell_type": "markdown",
   "id": "83d0a8c3-3604-4e35-aa9a-023c8d4c78de",
   "metadata": {},
   "source": [
    "Now, let's also put the age ranges in bins as this will help us better understand and utilize the age data in our recommendation system. Categorizing ages into bins offers several advantages:\n",
    "\n",
    "1. Simplification: It reduces the granularity of the data, making patterns easier to identify and analyze.\n",
    "\n",
    "2. Generalization: It allows our model to make more generalized recommendations based on age groups rather than specific ages.\n",
    "\n",
    "3. Handling Outliers: Binning can mitigate the impact of extreme values or outliers in the age data.\n",
    "\n",
    "4. Feature Engineering: Age categories can be used as features in our recommendation model, potentially improving its performance.\n",
    "\n",
    "5. Marketing Insights: It enables more targeted analysis of reading preferences across different age groups.\n",
    "\n",
    "6. User Segmentation: Age bins facilitate easier segmentation of users for personalized recommendations.\n",
    "\n",
    "By implementing these age categories, we create a more robust framework for our recommendation system. It will allow us to identify trends in reading preferences across different life stages and tailor our recommendations accordingly. This approach can lead to more accurate and relevant book suggestions, enhancing the overall user experience of our recommendation platform."
   ]
  },
  {
   "cell_type": "code",
   "execution_count": 85,
   "id": "198f6c07-0947-4c58-930d-3b4d3fad05c4",
   "metadata": {},
   "outputs": [],
   "source": [
    "# Defining bin edges based on the distribution of ages\n",
    "bins = [0, 18, 26, 33, 41, 60, np.inf]\n",
    "\n",
    "# Defining labels for the bins\n",
    "labels = ['Under 18', '18-25', '26-32', '33-40', '41-60', '60+']\n",
    "\n",
    "# Applying the binning to the 'Age' column\n",
    "users_df['Age_Category'] = pd.cut(users_df['Age'], bins=bins, labels=labels, include_lowest=True)"
   ]
  },
  {
   "cell_type": "code",
   "execution_count": 86,
   "id": "840f4623-71ad-49af-927b-8a8433a50491",
   "metadata": {},
   "outputs": [
    {
     "data": {
      "text/html": [
       "<div>\n",
       "<style scoped>\n",
       "    .dataframe tbody tr th:only-of-type {\n",
       "        vertical-align: middle;\n",
       "    }\n",
       "\n",
       "    .dataframe tbody tr th {\n",
       "        vertical-align: top;\n",
       "    }\n",
       "\n",
       "    .dataframe thead th {\n",
       "        text-align: right;\n",
       "    }\n",
       "</style>\n",
       "<table border=\"1\" class=\"dataframe\">\n",
       "  <thead>\n",
       "    <tr style=\"text-align: right;\">\n",
       "      <th></th>\n",
       "      <th>User_id</th>\n",
       "      <th>Location</th>\n",
       "      <th>Age</th>\n",
       "      <th>Age_Category</th>\n",
       "    </tr>\n",
       "  </thead>\n",
       "  <tbody>\n",
       "    <tr>\n",
       "      <th>0</th>\n",
       "      <td>1</td>\n",
       "      <td>nyc, new york, usa</td>\n",
       "      <td>30.0</td>\n",
       "      <td>26-32</td>\n",
       "    </tr>\n",
       "    <tr>\n",
       "      <th>1</th>\n",
       "      <td>2</td>\n",
       "      <td>stockton, california, usa</td>\n",
       "      <td>18.0</td>\n",
       "      <td>Under 18</td>\n",
       "    </tr>\n",
       "    <tr>\n",
       "      <th>2</th>\n",
       "      <td>3</td>\n",
       "      <td>moscow, yukon territory, russia</td>\n",
       "      <td>36.0</td>\n",
       "      <td>33-40</td>\n",
       "    </tr>\n",
       "    <tr>\n",
       "      <th>3</th>\n",
       "      <td>4</td>\n",
       "      <td>porto, v.n.gaia, portugal</td>\n",
       "      <td>17.0</td>\n",
       "      <td>Under 18</td>\n",
       "    </tr>\n",
       "    <tr>\n",
       "      <th>4</th>\n",
       "      <td>5</td>\n",
       "      <td>farnborough, hants, united kingdom</td>\n",
       "      <td>24.0</td>\n",
       "      <td>18-25</td>\n",
       "    </tr>\n",
       "  </tbody>\n",
       "</table>\n",
       "</div>"
      ],
      "text/plain": [
       "   User_id                            Location   Age Age_Category\n",
       "0        1                  nyc, new york, usa  30.0        26-32\n",
       "1        2           stockton, california, usa  18.0     Under 18\n",
       "2        3     moscow, yukon territory, russia  36.0        33-40\n",
       "3        4           porto, v.n.gaia, portugal  17.0     Under 18\n",
       "4        5  farnborough, hants, united kingdom  24.0        18-25"
      ]
     },
     "execution_count": 86,
     "metadata": {},
     "output_type": "execute_result"
    }
   ],
   "source": [
    "# seeign the top 5 rows of the dataset\n",
    "users_df.head()"
   ]
  },
  {
   "cell_type": "code",
   "execution_count": 87,
   "id": "acd083ec-0f30-4ad0-b337-b68f5cbeb31d",
   "metadata": {},
   "outputs": [
    {
     "data": {
      "text/plain": [
       "Age_Category\n",
       "26-32       72075\n",
       "33-40       70907\n",
       "41-60       56301\n",
       "18-25       55493\n",
       "Under 18    16013\n",
       "60+          8069\n",
       "Name: count, dtype: int64"
      ]
     },
     "execution_count": 87,
     "metadata": {},
     "output_type": "execute_result"
    }
   ],
   "source": [
    "# seeinng the valu counts for the Age Category \n",
    "users_df['Age_Category'].value_counts()"
   ]
  },
  {
   "cell_type": "markdown",
   "id": "5a7e3cf3-9f5b-4c88-a246-1f5e174e040f",
   "metadata": {},
   "source": [
    "Lastly, let's clean up the location column by splitting it into separate columns for city, state, and country. This refinement will:\n",
    "\n",
    "1. Enable more detailed geographical analysis\n",
    "2. Improve our model's ability to make location-based recommendations\n",
    "3. Allow for better user segmentation and personalization\n",
    "4. Facilitate easier regional comparisons of reading preferences\n",
    "5. Support potential future features like local bestseller lists or region-specific recommendations\n",
    "\n",
    "This granular approach to location data will enhance both our analytical capabilities and the precision of our book recommendation system."
   ]
  },
  {
   "cell_type": "code",
   "execution_count": 88,
   "id": "f4c230a4-a322-45ca-a021-a931c0c60c76",
   "metadata": {},
   "outputs": [],
   "source": [
    "# Split the Location column, allowing for missing values\n",
    "split_location = users_df['Location'].str.split(',', expand=True)\n",
    "\n",
    "# Ensure we have 3 columns, filling missing values with NaN\n",
    "split_location = split_location.reindex(columns=range(3))\n",
    "\n",
    "# Assign names to the columns\n",
    "users_df[['City', 'State', 'Country']] = split_location\n",
    "\n",
    "# Clean up the columns\n",
    "users_df['City'] = users_df['City'].str.strip()\n",
    "users_df['State'] = users_df['State'].str.strip()\n",
    "users_df['Country'] = users_df['Country'].str.strip()\n",
    "\n",
    "# Handle special cases and replace null values with 'Unknown'\n",
    "users_df['Country'] = users_df['Country'].replace({'usa': 'United States', 'n/a': 'Unknown', 'nan': 'Unknown', '': 'Unknown'})\n",
    "users_df['State'] = users_df['State'].replace({'n/a': 'Unknown', 'nan': 'Unknown', '': 'Unknown'})\n",
    "\n",
    "# Replace any remaining NaN values with 'Unknown'\n",
    "users_df['City'] = users_df['City'].fillna('Unknown')\n",
    "users_df['State'] = users_df['State'].fillna('Unknown')\n",
    "users_df['Country'] = users_df['Country'].fillna('Unknown')\n",
    "\n",
    "# Drop the original Location column if not needed\n",
    "users_df = users_df.drop('Location', axis=1)"
   ]
  },
  {
   "cell_type": "code",
   "execution_count": 89,
   "id": "e8b3f846-5996-4acf-8f95-8a12e60de354",
   "metadata": {},
   "outputs": [
    {
     "data": {
      "text/html": [
       "<div>\n",
       "<style scoped>\n",
       "    .dataframe tbody tr th:only-of-type {\n",
       "        vertical-align: middle;\n",
       "    }\n",
       "\n",
       "    .dataframe tbody tr th {\n",
       "        vertical-align: top;\n",
       "    }\n",
       "\n",
       "    .dataframe thead th {\n",
       "        text-align: right;\n",
       "    }\n",
       "</style>\n",
       "<table border=\"1\" class=\"dataframe\">\n",
       "  <thead>\n",
       "    <tr style=\"text-align: right;\">\n",
       "      <th></th>\n",
       "      <th>User_id</th>\n",
       "      <th>Age</th>\n",
       "      <th>Age_Category</th>\n",
       "      <th>City</th>\n",
       "      <th>State</th>\n",
       "      <th>Country</th>\n",
       "    </tr>\n",
       "  </thead>\n",
       "  <tbody>\n",
       "    <tr>\n",
       "      <th>0</th>\n",
       "      <td>1</td>\n",
       "      <td>30.0</td>\n",
       "      <td>26-32</td>\n",
       "      <td>nyc</td>\n",
       "      <td>new york</td>\n",
       "      <td>United States</td>\n",
       "    </tr>\n",
       "    <tr>\n",
       "      <th>1</th>\n",
       "      <td>2</td>\n",
       "      <td>18.0</td>\n",
       "      <td>Under 18</td>\n",
       "      <td>stockton</td>\n",
       "      <td>california</td>\n",
       "      <td>United States</td>\n",
       "    </tr>\n",
       "    <tr>\n",
       "      <th>2</th>\n",
       "      <td>3</td>\n",
       "      <td>36.0</td>\n",
       "      <td>33-40</td>\n",
       "      <td>moscow</td>\n",
       "      <td>yukon territory</td>\n",
       "      <td>russia</td>\n",
       "    </tr>\n",
       "    <tr>\n",
       "      <th>3</th>\n",
       "      <td>4</td>\n",
       "      <td>17.0</td>\n",
       "      <td>Under 18</td>\n",
       "      <td>porto</td>\n",
       "      <td>v.n.gaia</td>\n",
       "      <td>portugal</td>\n",
       "    </tr>\n",
       "    <tr>\n",
       "      <th>4</th>\n",
       "      <td>5</td>\n",
       "      <td>24.0</td>\n",
       "      <td>18-25</td>\n",
       "      <td>farnborough</td>\n",
       "      <td>hants</td>\n",
       "      <td>united kingdom</td>\n",
       "    </tr>\n",
       "  </tbody>\n",
       "</table>\n",
       "</div>"
      ],
      "text/plain": [
       "   User_id   Age Age_Category         City            State         Country\n",
       "0        1  30.0        26-32          nyc         new york   United States\n",
       "1        2  18.0     Under 18     stockton       california   United States\n",
       "2        3  36.0        33-40       moscow  yukon territory          russia\n",
       "3        4  17.0     Under 18        porto         v.n.gaia        portugal\n",
       "4        5  24.0        18-25  farnborough            hants  united kingdom"
      ]
     },
     "execution_count": 89,
     "metadata": {},
     "output_type": "execute_result"
    }
   ],
   "source": [
    "# seeing the top 5 columns of the data \n",
    "users_df.head()"
   ]
  },
  {
   "cell_type": "code",
   "execution_count": 90,
   "id": "5674e53e-c3b5-4baf-969c-d42e604d7d6d",
   "metadata": {},
   "outputs": [
    {
     "data": {
      "text/plain": [
       "User_id         0.0\n",
       "Age             0.0\n",
       "Age_Category    0.0\n",
       "City            0.0\n",
       "State           0.0\n",
       "Country         0.0\n",
       "dtype: float64"
      ]
     },
     "execution_count": 90,
     "metadata": {},
     "output_type": "execute_result"
    }
   ],
   "source": [
    "# Checking for null values \n",
    "((users_df.isna().sum()/users_df.shape[0])*100).sort_values(ascending=False)"
   ]
  },
  {
   "cell_type": "markdown",
   "id": "bb4b45c0-83e8-4f67-bae7-af8c5a3f999e",
   "metadata": {},
   "source": [
    "We now have a clean data for the users dataframe."
   ]
  },
  {
   "cell_type": "markdown",
   "id": "58545aef-1e12-4c9c-827a-8eeb54849cb0",
   "metadata": {},
   "source": [
    "<a id=\"final-dataset\"></a>\n",
    "## Final Dataset Analysis\n",
    "[Back to Table of Contents](#table-of-content)"
   ]
  },
  {
   "cell_type": "markdown",
   "id": "21fab769-ba98-49a6-ab92-e21d6c482df7",
   "metadata": {},
   "source": [
    "With data cleaning complete, let's combine everything into a single dataframe. This will streamline analysis and modeling by centralizing all our refined data."
   ]
  },
  {
   "cell_type": "code",
   "execution_count": 91,
   "id": "da5c90a2-94d7-4d73-948b-1e8416b47876",
   "metadata": {},
   "outputs": [],
   "source": [
    "# Merging the users data with the ratings with books data\n",
    "final_df = users_df.merge(ratings_with_books, on='User_id')"
   ]
  },
  {
   "cell_type": "code",
   "execution_count": 92,
   "id": "0acd97ce-8777-40fc-8f9d-d6a2ccd0ff66",
   "metadata": {},
   "outputs": [
    {
     "data": {
      "text/html": [
       "<div>\n",
       "<style scoped>\n",
       "    .dataframe tbody tr th:only-of-type {\n",
       "        vertical-align: middle;\n",
       "    }\n",
       "\n",
       "    .dataframe tbody tr th {\n",
       "        vertical-align: top;\n",
       "    }\n",
       "\n",
       "    .dataframe thead th {\n",
       "        text-align: right;\n",
       "    }\n",
       "</style>\n",
       "<table border=\"1\" class=\"dataframe\">\n",
       "  <thead>\n",
       "    <tr style=\"text-align: right;\">\n",
       "      <th></th>\n",
       "      <th>User_id</th>\n",
       "      <th>Age</th>\n",
       "      <th>Age_Category</th>\n",
       "      <th>City</th>\n",
       "      <th>State</th>\n",
       "      <th>Country</th>\n",
       "      <th>ISBN</th>\n",
       "      <th>Title</th>\n",
       "      <th>Author</th>\n",
       "      <th>Publisher</th>\n",
       "      <th>Publication_year</th>\n",
       "      <th>Year_Category</th>\n",
       "      <th>Ratings</th>\n",
       "      <th>Total_num_of_ratings</th>\n",
       "      <th>Avg_ratings</th>\n",
       "      <th>Image_URL</th>\n",
       "    </tr>\n",
       "  </thead>\n",
       "  <tbody>\n",
       "    <tr>\n",
       "      <th>0</th>\n",
       "      <td>2</td>\n",
       "      <td>18.0</td>\n",
       "      <td>Under 18</td>\n",
       "      <td>stockton</td>\n",
       "      <td>california</td>\n",
       "      <td>United States</td>\n",
       "      <td>0195153448</td>\n",
       "      <td>Classical Mythology</td>\n",
       "      <td>Mark P. O. Morford</td>\n",
       "      <td>Oxford University Press</td>\n",
       "      <td>2002</td>\n",
       "      <td>2000-2009</td>\n",
       "      <td>0</td>\n",
       "      <td>2</td>\n",
       "      <td>3.50</td>\n",
       "      <td>http://images.amazon.com/images/P/0195153448.0...</td>\n",
       "    </tr>\n",
       "    <tr>\n",
       "      <th>1</th>\n",
       "      <td>8</td>\n",
       "      <td>38.0</td>\n",
       "      <td>33-40</td>\n",
       "      <td>timmins</td>\n",
       "      <td>ontario</td>\n",
       "      <td>canada</td>\n",
       "      <td>0002005018</td>\n",
       "      <td>Clara Callan</td>\n",
       "      <td>Richard Bruce Wright</td>\n",
       "      <td>HarperFlamingo Canada</td>\n",
       "      <td>2001</td>\n",
       "      <td>2000-2009</td>\n",
       "      <td>5</td>\n",
       "      <td>14</td>\n",
       "      <td>4.93</td>\n",
       "      <td>http://images.amazon.com/images/P/0002005018.0...</td>\n",
       "    </tr>\n",
       "    <tr>\n",
       "      <th>2</th>\n",
       "      <td>8</td>\n",
       "      <td>38.0</td>\n",
       "      <td>33-40</td>\n",
       "      <td>timmins</td>\n",
       "      <td>ontario</td>\n",
       "      <td>canada</td>\n",
       "      <td>0060973129</td>\n",
       "      <td>Decision in Normandy</td>\n",
       "      <td>Carlo D'Este</td>\n",
       "      <td>HarperPerennial</td>\n",
       "      <td>1991</td>\n",
       "      <td>1980-1999</td>\n",
       "      <td>0</td>\n",
       "      <td>3</td>\n",
       "      <td>5.00</td>\n",
       "      <td>http://images.amazon.com/images/P/0060973129.0...</td>\n",
       "    </tr>\n",
       "    <tr>\n",
       "      <th>3</th>\n",
       "      <td>8</td>\n",
       "      <td>38.0</td>\n",
       "      <td>33-40</td>\n",
       "      <td>timmins</td>\n",
       "      <td>ontario</td>\n",
       "      <td>canada</td>\n",
       "      <td>0374157065</td>\n",
       "      <td>Flu: The Story of the Great Influenza Pandemic...</td>\n",
       "      <td>Gina Bari Kolata</td>\n",
       "      <td>Farrar Straus Giroux</td>\n",
       "      <td>1999</td>\n",
       "      <td>1980-1999</td>\n",
       "      <td>0</td>\n",
       "      <td>11</td>\n",
       "      <td>4.27</td>\n",
       "      <td>http://images.amazon.com/images/P/0374157065.0...</td>\n",
       "    </tr>\n",
       "    <tr>\n",
       "      <th>4</th>\n",
       "      <td>8</td>\n",
       "      <td>38.0</td>\n",
       "      <td>33-40</td>\n",
       "      <td>timmins</td>\n",
       "      <td>ontario</td>\n",
       "      <td>canada</td>\n",
       "      <td>0393045218</td>\n",
       "      <td>The Mummies of Urumchi</td>\n",
       "      <td>E. J. W. Barber</td>\n",
       "      <td>W. W. Norton &amp;amp; Company</td>\n",
       "      <td>1999</td>\n",
       "      <td>1980-1999</td>\n",
       "      <td>0</td>\n",
       "      <td>1</td>\n",
       "      <td>0.00</td>\n",
       "      <td>http://images.amazon.com/images/P/0393045218.0...</td>\n",
       "    </tr>\n",
       "  </tbody>\n",
       "</table>\n",
       "</div>"
      ],
      "text/plain": [
       "   User_id   Age Age_Category      City       State        Country  \\\n",
       "0        2  18.0     Under 18  stockton  california  United States   \n",
       "1        8  38.0        33-40   timmins     ontario         canada   \n",
       "2        8  38.0        33-40   timmins     ontario         canada   \n",
       "3        8  38.0        33-40   timmins     ontario         canada   \n",
       "4        8  38.0        33-40   timmins     ontario         canada   \n",
       "\n",
       "         ISBN                                              Title  \\\n",
       "0  0195153448                                Classical Mythology   \n",
       "1  0002005018                                       Clara Callan   \n",
       "2  0060973129                               Decision in Normandy   \n",
       "3  0374157065  Flu: The Story of the Great Influenza Pandemic...   \n",
       "4  0393045218                             The Mummies of Urumchi   \n",
       "\n",
       "                 Author                   Publisher  Publication_year  \\\n",
       "0    Mark P. O. Morford     Oxford University Press              2002   \n",
       "1  Richard Bruce Wright       HarperFlamingo Canada              2001   \n",
       "2          Carlo D'Este             HarperPerennial              1991   \n",
       "3      Gina Bari Kolata        Farrar Straus Giroux              1999   \n",
       "4       E. J. W. Barber  W. W. Norton &amp; Company              1999   \n",
       "\n",
       "  Year_Category  Ratings  Total_num_of_ratings  Avg_ratings  \\\n",
       "0     2000-2009        0                     2         3.50   \n",
       "1     2000-2009        5                    14         4.93   \n",
       "2     1980-1999        0                     3         5.00   \n",
       "3     1980-1999        0                    11         4.27   \n",
       "4     1980-1999        0                     1         0.00   \n",
       "\n",
       "                                           Image_URL  \n",
       "0  http://images.amazon.com/images/P/0195153448.0...  \n",
       "1  http://images.amazon.com/images/P/0002005018.0...  \n",
       "2  http://images.amazon.com/images/P/0060973129.0...  \n",
       "3  http://images.amazon.com/images/P/0374157065.0...  \n",
       "4  http://images.amazon.com/images/P/0393045218.0...  "
      ]
     },
     "execution_count": 92,
     "metadata": {},
     "output_type": "execute_result"
    }
   ],
   "source": [
    "# Seeing the first 5 rows of the data \n",
    "final_df.head()"
   ]
  },
  {
   "cell_type": "code",
   "execution_count": 93,
   "id": "b22c0e27-465c-45fc-ade2-954e7cf192d0",
   "metadata": {},
   "outputs": [],
   "source": [
    "# reordering columns in the dataset and removing the age column as we already have the age catergory column \n",
    "final_df  = final_df[['ISBN', 'Title', 'Author', 'Ratings', 'Total_num_of_ratings', 'Avg_ratings', 'Publisher',\n",
    "                        'Publication_year','Year_Category', 'User_id', 'Age_Category', 'City', 'State', 'Country', 'Image_URL']]"
   ]
  },
  {
   "cell_type": "code",
   "execution_count": 94,
   "id": "f71d45ce-1554-4bed-a472-42f8f5bdce0f",
   "metadata": {},
   "outputs": [
    {
     "data": {
      "text/html": [
       "<div>\n",
       "<style scoped>\n",
       "    .dataframe tbody tr th:only-of-type {\n",
       "        vertical-align: middle;\n",
       "    }\n",
       "\n",
       "    .dataframe tbody tr th {\n",
       "        vertical-align: top;\n",
       "    }\n",
       "\n",
       "    .dataframe thead th {\n",
       "        text-align: right;\n",
       "    }\n",
       "</style>\n",
       "<table border=\"1\" class=\"dataframe\">\n",
       "  <thead>\n",
       "    <tr style=\"text-align: right;\">\n",
       "      <th></th>\n",
       "      <th>ISBN</th>\n",
       "      <th>Title</th>\n",
       "      <th>Author</th>\n",
       "      <th>Ratings</th>\n",
       "      <th>Total_num_of_ratings</th>\n",
       "      <th>Avg_ratings</th>\n",
       "      <th>Publisher</th>\n",
       "      <th>Publication_year</th>\n",
       "      <th>Year_Category</th>\n",
       "      <th>User_id</th>\n",
       "      <th>Age_Category</th>\n",
       "      <th>City</th>\n",
       "      <th>State</th>\n",
       "      <th>Country</th>\n",
       "      <th>Image_URL</th>\n",
       "    </tr>\n",
       "  </thead>\n",
       "  <tbody>\n",
       "    <tr>\n",
       "      <th>0</th>\n",
       "      <td>0195153448</td>\n",
       "      <td>Classical Mythology</td>\n",
       "      <td>Mark P. O. Morford</td>\n",
       "      <td>0</td>\n",
       "      <td>2</td>\n",
       "      <td>3.50</td>\n",
       "      <td>Oxford University Press</td>\n",
       "      <td>2002</td>\n",
       "      <td>2000-2009</td>\n",
       "      <td>2</td>\n",
       "      <td>Under 18</td>\n",
       "      <td>stockton</td>\n",
       "      <td>california</td>\n",
       "      <td>United States</td>\n",
       "      <td>http://images.amazon.com/images/P/0195153448.0...</td>\n",
       "    </tr>\n",
       "    <tr>\n",
       "      <th>1</th>\n",
       "      <td>0002005018</td>\n",
       "      <td>Clara Callan</td>\n",
       "      <td>Richard Bruce Wright</td>\n",
       "      <td>5</td>\n",
       "      <td>14</td>\n",
       "      <td>4.93</td>\n",
       "      <td>HarperFlamingo Canada</td>\n",
       "      <td>2001</td>\n",
       "      <td>2000-2009</td>\n",
       "      <td>8</td>\n",
       "      <td>33-40</td>\n",
       "      <td>timmins</td>\n",
       "      <td>ontario</td>\n",
       "      <td>canada</td>\n",
       "      <td>http://images.amazon.com/images/P/0002005018.0...</td>\n",
       "    </tr>\n",
       "    <tr>\n",
       "      <th>2</th>\n",
       "      <td>0060973129</td>\n",
       "      <td>Decision in Normandy</td>\n",
       "      <td>Carlo D'Este</td>\n",
       "      <td>0</td>\n",
       "      <td>3</td>\n",
       "      <td>5.00</td>\n",
       "      <td>HarperPerennial</td>\n",
       "      <td>1991</td>\n",
       "      <td>1980-1999</td>\n",
       "      <td>8</td>\n",
       "      <td>33-40</td>\n",
       "      <td>timmins</td>\n",
       "      <td>ontario</td>\n",
       "      <td>canada</td>\n",
       "      <td>http://images.amazon.com/images/P/0060973129.0...</td>\n",
       "    </tr>\n",
       "    <tr>\n",
       "      <th>3</th>\n",
       "      <td>0374157065</td>\n",
       "      <td>Flu: The Story of the Great Influenza Pandemic...</td>\n",
       "      <td>Gina Bari Kolata</td>\n",
       "      <td>0</td>\n",
       "      <td>11</td>\n",
       "      <td>4.27</td>\n",
       "      <td>Farrar Straus Giroux</td>\n",
       "      <td>1999</td>\n",
       "      <td>1980-1999</td>\n",
       "      <td>8</td>\n",
       "      <td>33-40</td>\n",
       "      <td>timmins</td>\n",
       "      <td>ontario</td>\n",
       "      <td>canada</td>\n",
       "      <td>http://images.amazon.com/images/P/0374157065.0...</td>\n",
       "    </tr>\n",
       "    <tr>\n",
       "      <th>4</th>\n",
       "      <td>0393045218</td>\n",
       "      <td>The Mummies of Urumchi</td>\n",
       "      <td>E. J. W. Barber</td>\n",
       "      <td>0</td>\n",
       "      <td>1</td>\n",
       "      <td>0.00</td>\n",
       "      <td>W. W. Norton &amp;amp; Company</td>\n",
       "      <td>1999</td>\n",
       "      <td>1980-1999</td>\n",
       "      <td>8</td>\n",
       "      <td>33-40</td>\n",
       "      <td>timmins</td>\n",
       "      <td>ontario</td>\n",
       "      <td>canada</td>\n",
       "      <td>http://images.amazon.com/images/P/0393045218.0...</td>\n",
       "    </tr>\n",
       "  </tbody>\n",
       "</table>\n",
       "</div>"
      ],
      "text/plain": [
       "         ISBN                                              Title  \\\n",
       "0  0195153448                                Classical Mythology   \n",
       "1  0002005018                                       Clara Callan   \n",
       "2  0060973129                               Decision in Normandy   \n",
       "3  0374157065  Flu: The Story of the Great Influenza Pandemic...   \n",
       "4  0393045218                             The Mummies of Urumchi   \n",
       "\n",
       "                 Author  Ratings  Total_num_of_ratings  Avg_ratings  \\\n",
       "0    Mark P. O. Morford        0                     2         3.50   \n",
       "1  Richard Bruce Wright        5                    14         4.93   \n",
       "2          Carlo D'Este        0                     3         5.00   \n",
       "3      Gina Bari Kolata        0                    11         4.27   \n",
       "4       E. J. W. Barber        0                     1         0.00   \n",
       "\n",
       "                    Publisher  Publication_year Year_Category  User_id  \\\n",
       "0     Oxford University Press              2002     2000-2009        2   \n",
       "1       HarperFlamingo Canada              2001     2000-2009        8   \n",
       "2             HarperPerennial              1991     1980-1999        8   \n",
       "3        Farrar Straus Giroux              1999     1980-1999        8   \n",
       "4  W. W. Norton &amp; Company              1999     1980-1999        8   \n",
       "\n",
       "  Age_Category      City       State        Country  \\\n",
       "0     Under 18  stockton  california  United States   \n",
       "1        33-40   timmins     ontario         canada   \n",
       "2        33-40   timmins     ontario         canada   \n",
       "3        33-40   timmins     ontario         canada   \n",
       "4        33-40   timmins     ontario         canada   \n",
       "\n",
       "                                           Image_URL  \n",
       "0  http://images.amazon.com/images/P/0195153448.0...  \n",
       "1  http://images.amazon.com/images/P/0002005018.0...  \n",
       "2  http://images.amazon.com/images/P/0060973129.0...  \n",
       "3  http://images.amazon.com/images/P/0374157065.0...  \n",
       "4  http://images.amazon.com/images/P/0393045218.0...  "
      ]
     },
     "execution_count": 94,
     "metadata": {},
     "output_type": "execute_result"
    }
   ],
   "source": [
    "# Seeing the first 5 rows of the data \n",
    "final_df.head()"
   ]
  },
  {
   "cell_type": "code",
   "execution_count": 95,
   "id": "569ff565-b772-4a98-9172-626c5fa979a3",
   "metadata": {},
   "outputs": [
    {
     "data": {
      "text/plain": [
       "np.int64(0)"
      ]
     },
     "execution_count": 95,
     "metadata": {},
     "output_type": "execute_result"
    }
   ],
   "source": [
    "# Seeing if there are any duplicates in the data \n",
    "final_df.duplicated().sum()"
   ]
  },
  {
   "cell_type": "code",
   "execution_count": 96,
   "id": "0edb8253-d274-4fda-b17a-fbb18b4969a7",
   "metadata": {},
   "outputs": [
    {
     "name": "stdout",
     "output_type": "stream",
     "text": [
      "We have 1031128 rows and 15 columns in the final dataset\n"
     ]
    }
   ],
   "source": [
    "# Seeing the shape of the final df \n",
    "final_df.shape\n",
    "print(f\"We have {final_df.shape[0]} rows and {final_df.shape[1]} columns in the final dataset\")"
   ]
  },
  {
   "cell_type": "code",
   "execution_count": 97,
   "id": "9c31fd4e-c75c-4871-b6df-67bc275bf194",
   "metadata": {},
   "outputs": [
    {
     "data": {
      "text/plain": [
       "ISBN                    0.0\n",
       "Title                   0.0\n",
       "Author                  0.0\n",
       "Ratings                 0.0\n",
       "Total_num_of_ratings    0.0\n",
       "Avg_ratings             0.0\n",
       "Publisher               0.0\n",
       "Publication_year        0.0\n",
       "Year_Category           0.0\n",
       "User_id                 0.0\n",
       "Age_Category            0.0\n",
       "City                    0.0\n",
       "State                   0.0\n",
       "Country                 0.0\n",
       "Image_URL               0.0\n",
       "dtype: float64"
      ]
     },
     "execution_count": 97,
     "metadata": {},
     "output_type": "execute_result"
    }
   ],
   "source": [
    "# Checking for null values \n",
    "((final_df.isna().sum()/final_df.shape[0])*100).sort_values(ascending=False) "
   ]
  },
  {
   "cell_type": "markdown",
   "id": "066b31e0-7981-4a53-999d-576a74bf5af8",
   "metadata": {},
   "source": [
    "Having consolidated our cleaned user information, ratings data, and book details into a single comprehensive dataframe, we're now poised to delve deeper into our dataset. This unified view will allow us to uncover valuable insights and patterns that will inform our understanding and guide the development of our book recommendation system."
   ]
  },
  {
   "cell_type": "code",
   "execution_count": 98,
   "id": "7448ae55-f0da-44e7-be5d-dd11fd91a3bf",
   "metadata": {},
   "outputs": [],
   "source": [
    "# saving the final dataset in the folder \n",
    "final_df.to_csv('cleaned_data.csv', index=False)"
   ]
  },
  {
   "cell_type": "markdown",
   "id": "309a13d7-fefb-4fb6-9fee-074b78764990",
   "metadata": {},
   "source": [
    "<a id=\"insights\"></a>\n",
    "## Additional Insights and Observations\n",
    "[Back to Table of Contents](#table-of-content)"
   ]
  },
  {
   "cell_type": "markdown",
   "id": "e4333df6-9c1b-402a-b777-aee4026a6732",
   "metadata": {},
   "source": [
    "To enhance our data analysis, let's explore additional features to uncover deeper insights and patterns. This comprehensive examination will provide a more nuanced understanding of our dataset, potentially revealing valuable information to refine and improve our recommendation models."
   ]
  },
  {
   "cell_type": "code",
   "execution_count": 99,
   "id": "29259b48-b43c-4b20-bac7-c1678beb3287",
   "metadata": {},
   "outputs": [
    {
     "data": {
      "text/html": [
       "<div>\n",
       "<style scoped>\n",
       "    .dataframe tbody tr th:only-of-type {\n",
       "        vertical-align: middle;\n",
       "    }\n",
       "\n",
       "    .dataframe tbody tr th {\n",
       "        vertical-align: top;\n",
       "    }\n",
       "\n",
       "    .dataframe thead th {\n",
       "        text-align: right;\n",
       "    }\n",
       "</style>\n",
       "<table border=\"1\" class=\"dataframe\">\n",
       "  <thead>\n",
       "    <tr style=\"text-align: right;\">\n",
       "      <th></th>\n",
       "      <th>ISBN</th>\n",
       "      <th>Title</th>\n",
       "      <th>Author</th>\n",
       "      <th>Ratings</th>\n",
       "      <th>Total_num_of_ratings</th>\n",
       "      <th>Avg_ratings</th>\n",
       "      <th>Publisher</th>\n",
       "      <th>Publication_year</th>\n",
       "      <th>Year_Category</th>\n",
       "      <th>User_id</th>\n",
       "      <th>Age_Category</th>\n",
       "      <th>City</th>\n",
       "      <th>State</th>\n",
       "      <th>Country</th>\n",
       "      <th>Image_URL</th>\n",
       "    </tr>\n",
       "  </thead>\n",
       "  <tbody>\n",
       "    <tr>\n",
       "      <th>0</th>\n",
       "      <td>0195153448</td>\n",
       "      <td>Classical Mythology</td>\n",
       "      <td>Mark P. O. Morford</td>\n",
       "      <td>0</td>\n",
       "      <td>2</td>\n",
       "      <td>3.50</td>\n",
       "      <td>Oxford University Press</td>\n",
       "      <td>2002</td>\n",
       "      <td>2000-2009</td>\n",
       "      <td>2</td>\n",
       "      <td>Under 18</td>\n",
       "      <td>stockton</td>\n",
       "      <td>california</td>\n",
       "      <td>United States</td>\n",
       "      <td>http://images.amazon.com/images/P/0195153448.0...</td>\n",
       "    </tr>\n",
       "    <tr>\n",
       "      <th>1</th>\n",
       "      <td>0002005018</td>\n",
       "      <td>Clara Callan</td>\n",
       "      <td>Richard Bruce Wright</td>\n",
       "      <td>5</td>\n",
       "      <td>14</td>\n",
       "      <td>4.93</td>\n",
       "      <td>HarperFlamingo Canada</td>\n",
       "      <td>2001</td>\n",
       "      <td>2000-2009</td>\n",
       "      <td>8</td>\n",
       "      <td>33-40</td>\n",
       "      <td>timmins</td>\n",
       "      <td>ontario</td>\n",
       "      <td>canada</td>\n",
       "      <td>http://images.amazon.com/images/P/0002005018.0...</td>\n",
       "    </tr>\n",
       "    <tr>\n",
       "      <th>2</th>\n",
       "      <td>0060973129</td>\n",
       "      <td>Decision in Normandy</td>\n",
       "      <td>Carlo D'Este</td>\n",
       "      <td>0</td>\n",
       "      <td>3</td>\n",
       "      <td>5.00</td>\n",
       "      <td>HarperPerennial</td>\n",
       "      <td>1991</td>\n",
       "      <td>1980-1999</td>\n",
       "      <td>8</td>\n",
       "      <td>33-40</td>\n",
       "      <td>timmins</td>\n",
       "      <td>ontario</td>\n",
       "      <td>canada</td>\n",
       "      <td>http://images.amazon.com/images/P/0060973129.0...</td>\n",
       "    </tr>\n",
       "    <tr>\n",
       "      <th>3</th>\n",
       "      <td>0374157065</td>\n",
       "      <td>Flu: The Story of the Great Influenza Pandemic...</td>\n",
       "      <td>Gina Bari Kolata</td>\n",
       "      <td>0</td>\n",
       "      <td>11</td>\n",
       "      <td>4.27</td>\n",
       "      <td>Farrar Straus Giroux</td>\n",
       "      <td>1999</td>\n",
       "      <td>1980-1999</td>\n",
       "      <td>8</td>\n",
       "      <td>33-40</td>\n",
       "      <td>timmins</td>\n",
       "      <td>ontario</td>\n",
       "      <td>canada</td>\n",
       "      <td>http://images.amazon.com/images/P/0374157065.0...</td>\n",
       "    </tr>\n",
       "    <tr>\n",
       "      <th>4</th>\n",
       "      <td>0393045218</td>\n",
       "      <td>The Mummies of Urumchi</td>\n",
       "      <td>E. J. W. Barber</td>\n",
       "      <td>0</td>\n",
       "      <td>1</td>\n",
       "      <td>0.00</td>\n",
       "      <td>W. W. Norton &amp;amp; Company</td>\n",
       "      <td>1999</td>\n",
       "      <td>1980-1999</td>\n",
       "      <td>8</td>\n",
       "      <td>33-40</td>\n",
       "      <td>timmins</td>\n",
       "      <td>ontario</td>\n",
       "      <td>canada</td>\n",
       "      <td>http://images.amazon.com/images/P/0393045218.0...</td>\n",
       "    </tr>\n",
       "  </tbody>\n",
       "</table>\n",
       "</div>"
      ],
      "text/plain": [
       "         ISBN                                              Title  \\\n",
       "0  0195153448                                Classical Mythology   \n",
       "1  0002005018                                       Clara Callan   \n",
       "2  0060973129                               Decision in Normandy   \n",
       "3  0374157065  Flu: The Story of the Great Influenza Pandemic...   \n",
       "4  0393045218                             The Mummies of Urumchi   \n",
       "\n",
       "                 Author  Ratings  Total_num_of_ratings  Avg_ratings  \\\n",
       "0    Mark P. O. Morford        0                     2         3.50   \n",
       "1  Richard Bruce Wright        5                    14         4.93   \n",
       "2          Carlo D'Este        0                     3         5.00   \n",
       "3      Gina Bari Kolata        0                    11         4.27   \n",
       "4       E. J. W. Barber        0                     1         0.00   \n",
       "\n",
       "                    Publisher  Publication_year Year_Category  User_id  \\\n",
       "0     Oxford University Press              2002     2000-2009        2   \n",
       "1       HarperFlamingo Canada              2001     2000-2009        8   \n",
       "2             HarperPerennial              1991     1980-1999        8   \n",
       "3        Farrar Straus Giroux              1999     1980-1999        8   \n",
       "4  W. W. Norton &amp; Company              1999     1980-1999        8   \n",
       "\n",
       "  Age_Category      City       State        Country  \\\n",
       "0     Under 18  stockton  california  United States   \n",
       "1        33-40   timmins     ontario         canada   \n",
       "2        33-40   timmins     ontario         canada   \n",
       "3        33-40   timmins     ontario         canada   \n",
       "4        33-40   timmins     ontario         canada   \n",
       "\n",
       "                                           Image_URL  \n",
       "0  http://images.amazon.com/images/P/0195153448.0...  \n",
       "1  http://images.amazon.com/images/P/0002005018.0...  \n",
       "2  http://images.amazon.com/images/P/0060973129.0...  \n",
       "3  http://images.amazon.com/images/P/0374157065.0...  \n",
       "4  http://images.amazon.com/images/P/0393045218.0...  "
      ]
     },
     "execution_count": 99,
     "metadata": {},
     "output_type": "execute_result"
    }
   ],
   "source": [
    "final_df.head()"
   ]
  },
  {
   "cell_type": "markdown",
   "id": "55209d63-19b4-4b41-8ef3-814f4b7bf958",
   "metadata": {},
   "source": [
    "<a id=\"Avg\"></a>\n",
    "#### Distribution of Average Book Ratings "
   ]
  },
  {
   "cell_type": "code",
   "execution_count": 100,
   "id": "39d0f86e-8046-4807-82bf-1f85cac7a874",
   "metadata": {},
   "outputs": [
    {
     "data": {
      "image/png": "[encoded data removed]",
      "text/plain": [
       "<Figure size 1000x600 with 1 Axes>"
      ]
     },
     "metadata": {},
     "output_type": "display_data"
    }
   ],
   "source": [
    "# Creating the bar chart\n",
    "plt.figure(figsize=(10, 6))\n",
    "sns.histplot(data=final_df, x='Avg_ratings', bins=20, kde=True)\n",
    "plt.title('Distribution of Average Book Ratings')\n",
    "plt.xlabel('Average Rating')\n",
    "plt.ylabel('Frequency')\n",
    "plt.show()"
   ]
  },
  {
   "cell_type": "markdown",
   "id": "0284e8c4-dbff-48f7-ad62-db17d166cbd5",
   "metadata": {},
   "source": [
    "The graph highlights a substantial portion of users without any book ratings, confirming our previous analysis that showed a peak at zero ratings. However, when we exclude these non-raters, the distribution of average ratings appears **approximately normal, with a slight Right-skewed**. The distribution **peaks around an average rating of 2.5**, and we observe minor increases at the higher end of the scale, specifically around 7.5, 8.5, and 10. These upticks at the higher end suggest that while most active users provide moderate ratings, there's a notable segment that tends to rate books more favorably. This could indicate a preference for highly-rated books or a general tendency to give positive feedback when users are engaged enough to provide a rating."
   ]
  },
  {
   "cell_type": "markdown",
   "id": "8569c368-571c-4d0d-860f-9113c6c1af7f",
   "metadata": {},
   "source": [
    "<a id=\"top10\"></a>\n",
    "#### Top 10 Countries by User Count and Age breakdown"
   ]
  },
  {
   "cell_type": "code",
   "execution_count": 101,
   "id": "6b483a34-f902-415e-9f1f-c02dc10cb6ba",
   "metadata": {},
   "outputs": [
    {
     "name": "stderr",
     "output_type": "stream",
     "text": [
      "/var/folders/x1/c4vgz1153nb7vn8f6v942wl80000gn/T/ipykernel_25844/1064569831.py:29: FutureWarning: The default of observed=False is deprecated and will be changed to True in a future version of pandas. Pass observed=False to retain current behavior or observed=True to adopt the future default and silence this warning.\n",
      "  .groupby(['Country', 'Age_Category'])\n"
     ]
    },
    {
     "data": {
      "image/png": "[encoded data removed]",
      "text/plain": [
       "<Figure size 1200x1200 with 2 Axes>"
      ]
     },
     "metadata": {},
     "output_type": "display_data"
    }
   ],
   "source": [
    "# Grouping the data by country and count users\n",
    "country_counts = final_df['Country'].value_counts().reset_index()\n",
    "country_counts.columns = ['Country', 'User_Count']\n",
    "\n",
    "# Getting the top 10 countries\n",
    "top_10_countries = country_counts.head(10)\n",
    "\n",
    "# Creating a figure with two subplots\n",
    "fig, (ax1, ax2) = plt.subplots(2, 1, figsize=(12, 12))\n",
    "\n",
    "# Bar chart for top 10 countries\n",
    "sns.barplot(\n",
    "    x='Country', \n",
    "    y='User_Count', \n",
    "    data=top_10_countries, \n",
    "    ax=ax1, \n",
    "    hue='Country',\n",
    "    palette='viridis',\n",
    "    legend=False\n",
    ")\n",
    "ax1.set_title('Top 10 Countries by User Count', fontsize=16)\n",
    "ax1.set_xlabel('Country', fontsize=14)\n",
    "ax1.set_ylabel('Number of Users', fontsize=14)\n",
    "ax1.tick_params(axis='x', rotation=45)\n",
    "\n",
    "# Age group breakdown for top 10 countries\n",
    "age_breakdown = (\n",
    "    final_df[final_df['Country'].isin(top_10_countries['Country'])]\n",
    "    .groupby(['Country', 'Age_Category'])\n",
    "    .size()\n",
    "    .unstack(fill_value=0)\n",
    ")\n",
    "\n",
    "# Calculate percentage breakdown\n",
    "age_breakdown_percent = age_breakdown.div(age_breakdown.sum(axis=1), axis=0)\n",
    "\n",
    "# Using a distinct color palette for age categories\n",
    "colors = sns.color_palette(\"Set2\", n_colors=len(age_breakdown_percent.columns))\n",
    "\n",
    "# Plotting the stacked bar chart\n",
    "age_breakdown_percent.plot(kind='bar', stacked=True, ax=ax2, color=colors)\n",
    "\n",
    "ax2.set_title('Age Group Breakdown for Top 10 Countries', fontsize=16)\n",
    "ax2.set_xlabel('Country', fontsize=14)\n",
    "ax2.set_ylabel('Percentage', fontsize=14)\n",
    "ax2.legend(title='Age Category', bbox_to_anchor=(1.05, 1), loc='upper left')\n",
    "ax2.tick_params(axis='x', rotation=45)\n",
    "\n",
    "plt.tight_layout()\n",
    "plt.show()"
   ]
  },
  {
   "cell_type": "markdown",
   "id": "ee285b35-9782-4fb6-873f-5cea7967df81",
   "metadata": {},
   "source": [
    "The graph shows the top 10 countries where our users are from, providing insights into the geographical distribution of our user base. This information is crucial for developing an effective recommendation system and understanding potential biases in our data.\n",
    "\n",
    "**Key Observations**\n",
    "\n",
    "1. US Dominance: The United States has the highest number of users, significantly outpacing other countries.\n",
    "\n",
    "2. Diverse User Base: Germany, France and Portugal are among the top countries, indicating a global user distribution.\n",
    "\n",
    "3. Language Diversity: The presence of non-English speaking countries suggests a diverse linguistic user base.\n",
    "\n",
    "4. Age Distribution: The US and Canada show fairly even distribution across age groups from 18-60, while countries like Portugal and New Zealand have higher percentages in the 18-32 age range.\n",
    "\n",
    "5. Low Under-18 Representation: All countries show a very low percentage of users under 18.\n",
    "\n",
    "**Implications for Recommendation System**\n",
    "\n",
    "1. Global Customization: Tailor recommendations based on regional preferences and availability.\n",
    "\n",
    "2. Language Considerations: Implement multi-language support to cater to diverse linguistic user groups.\n",
    "\n",
    "3. Age-Based Recommendations: Adjust recommendations based on age distribution patterns in different countries.\n",
    "\n",
    "4. Bias Mitigation: Use geographical awareness to ensure fair representation for users from all countries in the recommendation algorithm.\n",
    "\n",
    "To improve the system, consider incorporating location-based filtering, implementing strategies for users with unknown locations, and exploring collaborative filtering techniques that account for geographical and age-based similarities."
   ]
  },
  {
   "cell_type": "markdown",
   "id": "84fbaa80-db90-4031-96cc-9a5119ccda1c",
   "metadata": {},
   "source": [
    "<a id=\"Age\"></a>\n",
    "#### Distribution of Users Across Age Categories"
   ]
  },
  {
   "cell_type": "code",
   "execution_count": 102,
   "id": "3c15eb51-e235-441e-b565-61530313388b",
   "metadata": {},
   "outputs": [
    {
     "data": {
      "image/png": "[encoded data removed]",
      "text/plain": [
       "<Figure size 1000x800 with 1 Axes>"
      ]
     },
     "metadata": {},
     "output_type": "display_data"
    }
   ],
   "source": [
    "# Counting the number of users in each Age_Category\n",
    "age_distribution = final_df['Age_Category'].value_counts()\n",
    "\n",
    "# Defining the correct order of age categories\n",
    "age_order = ['Under 18', '18-25', '26-32', '33-40', '41-60', '60+']\n",
    "\n",
    "# Sorting the data according to this order\n",
    "age_distribution = age_distribution.reindex(age_order)\n",
    "\n",
    "# Defining a color palette\n",
    "colors = sns.color_palette(\"YlOrRd\", len(age_order))\n",
    "\n",
    "# Creating a pie chart\n",
    "plt.figure(figsize=(10, 8))\n",
    "plt.pie(age_distribution.values, labels=age_distribution.index, colors=colors, autopct='%1.1f%%', startangle=90)\n",
    "plt.title('Distribution of Users Across Age Categories', fontsize=16)\n",
    "plt.axis('equal')\n",
    "\n",
    "# Adding a legend\n",
    "plt.legend(age_distribution.index, title=\"Age Categories\", loc=\"center left\", bbox_to_anchor=(1, 0, 0.5, 1))\n",
    "\n",
    "plt.tight_layout()\n",
    "plt.show()"
   ]
  },
  {
   "cell_type": "markdown",
   "id": "9c708453-c367-43f7-8a29-aaba4e77726c",
   "metadata": {},
   "source": [
    "The pie chart details the percentage of users in various age ranges, offering critical insights for optimizing our recommendation system. Understanding this distribution enables us to better cater to our user base and refine our recommendations accordingly. A key observation is the **balanced representation** among users aged 26-32, 33-40, and 41-60, indicating that these groups constitute the majority of our users. Additionally, the 15% of users in the 16-25 age range represent a significant **younger demographic** that warrants specific attention. It's also important to note the smaller percentages in the extreme age categories, which can be attributed to natural user demographics and data cleaning efforts aimed at removing unrealistic age entries, ensuring that we maintained the **integrity of the underlying data**.\n",
    "\n",
    "These insights have several implications for our recommendation system:\n",
    "\n",
    "*   **Core Audience Focus:** Tailor recommendations to suit the preferences of our core age groups (26-60).\n",
    "*   **Youth Engagement:** Cater to the unique interests of our younger audience (16-25) through trending or youth-oriented content.\n",
    "*   **Algorithm Design:** Develop algorithms that account for age-based preferences.\n",
    "*   **Bias Mitigation:** Ensure diverse recommendations across all age groups to avoid age-based biases.\n",
    "\n",
    "By leveraging this age distribution data, we can provide more personalized and relevant suggestions to users across all age ranges."
   ]
  },
  {
   "cell_type": "markdown",
   "id": "9198859a-cd88-4a37-a6a2-5cf7ab6e4b2e",
   "metadata": {},
   "source": [
    "<a id=\"top\"></a>\n",
    "#### Top 10 Books by Total Number of Ratings"
   ]
  },
  {
   "cell_type": "code",
   "execution_count": 103,
   "id": "f74ec69e-19b3-498b-b4be-2d9e443dee18",
   "metadata": {},
   "outputs": [
    {
     "data": {
      "image/png": "[encoded data removed]",
      "text/plain": [
       "<Figure size 1200x600 with 1 Axes>"
      ]
     },
     "metadata": {},
     "output_type": "display_data"
    }
   ],
   "source": [
    "# Grouping by title and sum the total number of ratings\n",
    "book_ratings = final_df.groupby('Title')['Total_num_of_ratings'].sum().reset_index()\n",
    "\n",
    "# Sorting by total number of ratings in descending order and get top 5\n",
    "top_5_books = book_ratings.sort_values('Total_num_of_ratings', ascending=False).head(10)\n",
    "\n",
    "# Visualizing the results\n",
    "plt.figure(figsize=(12, 6))\n",
    "plt.bar(top_5_books['Title'], top_5_books['Total_num_of_ratings'], color='skyblue')\n",
    "plt.title('Top 10 Books by Total Number of Ratings', fontsize=16)\n",
    "plt.xlabel('Book Title', fontsize=12)\n",
    "plt.ylabel('Total Number of Ratings', fontsize=12)\n",
    "plt.xticks(rotation=45, ha='right')\n",
    "plt.tight_layout()\n",
    "plt.show()"
   ]
  },
  {
   "cell_type": "markdown",
   "id": "cfbfeec2-61cf-4f42-b786-2e9a69e8b55d",
   "metadata": {},
   "source": [
    "#### Analysis of Top 10 Books by Total Number of Ratings\n",
    "\n",
    "The graph visualizes the **top 10 books with the highest total number of ratings**. From the chart, we observe that *Wild Animus* has the most ratings, followed by other notable titles like *The Da Vinci Code* and *Bridget Jones's Diary*. While these books appear to dominate based on sheer volume of ratings, this metric alone can be misleading.\n",
    "\n",
    "##### Statistical Concerns\n",
    "1. **No Weighting for Rating Volume**: A book with only a few ratings (e.g., 5 users giving 5 stars) can appear disproportionately high in average ratings compared to a book with thousands of ratings and a slightly lower average.\n",
    "2. **Bias in Popularity**: Books with more exposure or marketing tend to accumulate more ratings, which may not necessarily reflect their quality.\n",
    "3. **Skewed Perception**: Relying solely on total ratings does not account for variability or reliability in the data.\n",
    "\n",
    "##### Proposed Solution\n",
    "To address these issues, we plan to implement a **weighted rating system** in the next sprint. This will adjust each book’s score by incorporating:\n",
    "- **Volume of Ratings**: Books with more ratings will carry more weight.\n",
    "- **Smoothing Factor**: A method will be applied to reduce the impact of outliers (e.g., books rated highly by only a few users).\n",
    "\n",
    "##### Future Steps\n",
    "1. Implement a weighted scoring algorithm.\n",
    "2. Reassess the rankings using both total ratings and weighted scores.\n",
    "\n",
    "By introducing this system, we aim to provide a more accurate representation of highly rated books, balancing popularity with reliability.\n"
   ]
  },
  {
   "cell_type": "markdown",
   "id": "4df9bc4b-5021-4427-98ab-7d3b68d9c8e7",
   "metadata": {},
   "source": [
    "<a id=\"conclusion\"></a>\n",
    "## Conclusion and Next Steps\n",
    "[Back to Table of Contents](#table-of-content)"
   ]
  },
  {
   "cell_type": "markdown",
   "id": "3c106266-9919-48d6-a058-fc38fefa4582",
   "metadata": {},
   "source": [
    "Our comprehensive Exploratory Data Analysis (EDA) and data cleaning process have successfully transformed our initial Books, Ratings, and Users datasets into a unified, high-quality dataset primed for building a book recommendation system. Key accomplishments include:\n",
    "\n",
    "- **Data Integration:** We've merged information from all three tables into a single, comprehensive dataset, facilitating easier analysis and model development.\n",
    "- **Data Cleaning:** We've addressed missing values, corrected inconsistencies, and removed or imputed erroneous data points, particularly in the Age and Publication_year fields.\n",
    "- **Feature Engineering:** We've created new features such as Total_num_of_ratings, Avg_ratings, Year_Category, and Age_Category, providing additional dimensions for our recommendation algorithms.\n",
    "- **Geographical Parsing:** We've split the Location field into City, State, and Country, enabling more granular geographical analysis.\n",
    "- **Data Validation:** We've ensured that all fields contain appropriate and realistic values, enhancing the reliability of our dataset.\n",
    "\n",
    "Next Steps for Book Recommendation System Project:\n",
    "- **Feature Selection and Preprocessing:** Identify and prepare the most relevant features for our recommendation algorithms, including normalization of numerical data and encoding of categorical variables.\n",
    "- **NLP for Book Titles:** Apply Natural Language Processing techniques to extract meaningful features from book titles. This will include tokenization, keyword extraction, and TF-IDF analysis. These NLP-derived features will significantly enhance our content-based filtering approach.\n",
    "- **Collaborative Filtering Implementation:** Develop a user-based or item-based collaborative filtering model as our baseline. This approach will leverage user-item interactions to identify similar users or books and make recommendations accordingly.\n",
    "- **Content-Based Filtering Development:** Create a content-based recommendation system utilizing book attributes such as Author, Publisher, Year_Category, and the NLP features extracted from titles. This method will focus on the characteristics of the books themselves to suggest similar items.\n",
    "- **Hybrid Model Exploration:** Investigate ways to combine collaborative and content-based approaches for a more robust and accurate recommendation system.\n",
    "\n",
    "By focusing on these key steps, we'll be able to create a well-rounded book recommendation system that leverages both user behavior and book content, including NLP-derived insights from titles, to provide personalized suggestions to our users."
   ]
  }
 ],
 "metadata": {
  "kernelspec": {
   "display_name": "capstone_env",
   "language": "python",
   "name": "capstone_env"
  },
  "language_info": {
   "codemirror_mode": {
    "name": "ipython",
    "version": 3
   },
   "file_extension": ".py",
   "mimetype": "text/x-python",
   "name": "python",
   "nbconvert_exporter": "python",
   "pygments_lexer": "ipython3",
   "version": "3.12.9"
  }
 },
 "nbformat": 4,
 "nbformat_minor": 5
}
